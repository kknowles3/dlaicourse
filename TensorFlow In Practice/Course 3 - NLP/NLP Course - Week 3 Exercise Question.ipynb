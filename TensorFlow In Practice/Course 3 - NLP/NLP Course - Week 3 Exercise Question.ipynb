{
  "nbformat": 4,
  "nbformat_minor": 0,
  "metadata": {
    "accelerator": "GPU",
    "colab": {
      "name": "NLP Course - Week 3 Exercise Question.ipynb",
      "provenance": [],
      "toc_visible": true
    },
    "kernelspec": {
      "display_name": "Python 3",
      "name": "python3"
    }
  },
  "cells": [
    {
      "cell_type": "code",
      "metadata": {
        "colab_type": "code",
        "id": "hmA6EzkQJ5jt",
        "colab": {}
      },
      "source": [
        "import json\n",
        "import tensorflow as tf\n",
        "import csv\n",
        "import random\n",
        "import numpy as np\n",
        "\n",
        "from tensorflow.keras.preprocessing.text import Tokenizer\n",
        "from tensorflow.keras.preprocessing.sequence import pad_sequences\n",
        "from tensorflow.keras.utils import to_categorical\n",
        "from tensorflow.keras import regularizers\n",
        "\n",
        "\n",
        "embedding_dim = 100\n",
        "max_length = 16\n",
        "trunc_type='post'\n",
        "padding_type='post'\n",
        "oov_tok = \"<OOV>\"\n",
        "training_size=160000 #Your dataset size here. Experiment using smaller values (i.e. 16000), but don't forget to train on at least 160000 to see the best effects\n",
        "test_portion=.1\n",
        "\n",
        "corpus = []\n"
      ],
      "execution_count": 0,
      "outputs": []
    },
    {
      "cell_type": "code",
      "metadata": {
        "colab_type": "code",
        "id": "bM0l_dORKqE0",
        "outputId": "28a37b3a-3d83-45b9-b7f9-0e7d46161315",
        "colab": {
          "base_uri": "https://localhost:8080/",
          "height": 221
        }
      },
      "source": [
        "# Note that I cleaned the Stanford dataset to remove LATIN1 encoding to make it easier for Python CSV reader\n",
        "# You can do that yourself with:\n",
        "# iconv -f LATIN1 -t UTF8 training.1600000.processed.noemoticon.csv -o training_cleaned.csv\n",
        "# I then hosted it on my site to make it easier to use in this notebook\n",
        "\n",
        "!wget --no-check-certificate \\\n",
        "    https://storage.googleapis.com/laurencemoroney-blog.appspot.com/training_cleaned.csv \\\n",
        "    -O /tmp/training_cleaned.csv\n",
        "\n",
        "num_sentences = 0\n",
        "\n",
        "with open(\"/tmp/training_cleaned.csv\") as csvfile:\n",
        "    reader = csv.reader(csvfile, delimiter=',')\n",
        "    for row in reader:\n",
        "      if num_sentences == 0:\n",
        "        print(type(row[0]))\n",
        "      # Your Code here. Create list items where the first item is the text, found in row[5], and the second is the label. Note that the label is a '0' or a '4' in the text. When it's the former, make\n",
        "      # your label to be 0, otherwise 1. Keep a count of the number of sentences in num_sentences\n",
        "      list_item=[row[5], 0 if row[0] == '0' else 1]\n",
        "      # YOUR CODE HERE\n",
        "      num_sentences = num_sentences + 1\n",
        "      corpus.append(list_item)\n"
      ],
      "execution_count": 84,
      "outputs": [
        {
          "output_type": "stream",
          "text": [
            "--2020-04-08 19:06:07--  https://storage.googleapis.com/laurencemoroney-blog.appspot.com/training_cleaned.csv\n",
            "Resolving storage.googleapis.com (storage.googleapis.com)... 108.177.119.128, 2a00:1450:4013:c01::80\n",
            "Connecting to storage.googleapis.com (storage.googleapis.com)|108.177.119.128|:443... connected.\n",
            "HTTP request sent, awaiting response... 200 OK\n",
            "Length: 238942690 (228M) [application/octet-stream]\n",
            "Saving to: ‘/tmp/training_cleaned.csv’\n",
            "\n",
            "/tmp/training_clean 100%[===================>] 227.87M  74.6MB/s    in 3.1s    \n",
            "\n",
            "2020-04-08 19:06:10 (74.6 MB/s) - ‘/tmp/training_cleaned.csv’ saved [238942690/238942690]\n",
            "\n",
            "<class 'str'>\n"
          ],
          "name": "stdout"
        }
      ]
    },
    {
      "cell_type": "code",
      "metadata": {
        "colab_type": "code",
        "id": "3kxblBUjEUX-",
        "outputId": "975cf385-d0f5-4117-a6ed-bdff3544bec3",
        "colab": {
          "base_uri": "https://localhost:8080/",
          "height": 68
        }
      },
      "source": [
        "print(num_sentences)\n",
        "print(len(corpus))\n",
        "print(corpus[1])\n",
        "\n",
        "# Expected Output:\n",
        "# 1600000\n",
        "# 1600000\n",
        "# [\"is upset that he can't update his Facebook by texting it... and might cry as a result  School today also. Blah!\", 0]"
      ],
      "execution_count": 85,
      "outputs": [
        {
          "output_type": "stream",
          "text": [
            "1600000\n",
            "1600000\n",
            "[\"is upset that he can't update his Facebook by texting it... and might cry as a result  School today also. Blah!\", 0]\n"
          ],
          "name": "stdout"
        }
      ]
    },
    {
      "cell_type": "code",
      "metadata": {
        "id": "qDS8B2xfuBBG",
        "colab_type": "code",
        "colab": {
          "base_uri": "https://localhost:8080/",
          "height": 51
        },
        "outputId": "e635ed9e-c416-4f06-c95a-94eada0232ee"
      },
      "source": [
        "print(type(corpus[0]))\n",
        "print(corpus[1])"
      ],
      "execution_count": 86,
      "outputs": [
        {
          "output_type": "stream",
          "text": [
            "<class 'list'>\n",
            "[\"is upset that he can't update his Facebook by texting it... and might cry as a result  School today also. Blah!\", 0]\n"
          ],
          "name": "stdout"
        }
      ]
    },
    {
      "cell_type": "code",
      "metadata": {
        "colab_type": "code",
        "id": "ohOGz24lsNAD",
        "colab": {}
      },
      "source": [
        "sentences=[]\n",
        "labels=[]\n",
        "random.shuffle(corpus)\n",
        "for x in range(training_size):\n",
        "    sentences.append(corpus[x][0])\n",
        "    labels.append(corpus[x][1])\n",
        "\n",
        "\n",
        "tokenizer = Tokenizer()\n",
        "tokenizer.fit_on_texts(sentences)\n",
        "\n",
        "word_index = tokenizer.word_index\n",
        "vocab_size=len(word_index)\n",
        "\n",
        "sequences = tokenizer.texts_to_sequences(sentences)\n",
        "padded = pad_sequences(sequences, maxlen=max_length, truncating=trunc_type)\n",
        "\n",
        "split = int(test_portion * training_size)\n",
        "\n",
        "test_sequences = padded[:split]\n",
        "training_sequences = padded[split:]\n",
        "test_labels = labels[:split]\n",
        "training_labels = labels[split:]"
      ],
      "execution_count": 0,
      "outputs": []
    },
    {
      "cell_type": "code",
      "metadata": {
        "colab_type": "code",
        "id": "gIrtRem1En3N",
        "outputId": "f01f956a-0825-4312-9d0f-c76db1967bd7",
        "colab": {
          "base_uri": "https://localhost:8080/",
          "height": 51
        }
      },
      "source": [
        "print(vocab_size)\n",
        "print(word_index['i'])\n",
        "# Expected Output\n",
        "# 138858\n",
        "# 1"
      ],
      "execution_count": 88,
      "outputs": [
        {
          "output_type": "stream",
          "text": [
            "138320\n",
            "1\n"
          ],
          "name": "stdout"
        }
      ]
    },
    {
      "cell_type": "code",
      "metadata": {
        "colab_type": "code",
        "id": "C1zdgJkusRh0",
        "outputId": "7a0df11d-0fc5-42da-fb69-995c5f569450",
        "colab": {
          "base_uri": "https://localhost:8080/",
          "height": 204
        }
      },
      "source": [
        "# Note this is the 100 dimension version of GloVe from Stanford\n",
        "# I unzipped and hosted it on my site to make this notebook easier\n",
        "!wget --no-check-certificate \\\n",
        "    https://storage.googleapis.com/laurencemoroney-blog.appspot.com/glove.6B.100d.txt \\\n",
        "    -O /tmp/glove.6B.100d.txt\n",
        "embeddings_index = {};\n",
        "with open('/tmp/glove.6B.100d.txt') as f:\n",
        "    for line in f:\n",
        "        values = line.split();\n",
        "        word = values[0];\n",
        "        coefs = np.asarray(values[1:], dtype='float32');\n",
        "        embeddings_index[word] = coefs;\n",
        "\n",
        "embeddings_matrix = np.zeros((vocab_size+1, embedding_dim));\n",
        "for word, i in word_index.items():\n",
        "    embedding_vector = embeddings_index.get(word);\n",
        "    if embedding_vector is not None:\n",
        "        embeddings_matrix[i] = embedding_vector;"
      ],
      "execution_count": 89,
      "outputs": [
        {
          "output_type": "stream",
          "text": [
            "--2020-04-08 19:06:58--  https://storage.googleapis.com/laurencemoroney-blog.appspot.com/glove.6B.100d.txt\n",
            "Resolving storage.googleapis.com (storage.googleapis.com)... 108.177.119.128, 2a00:1450:4013:c00::80\n",
            "Connecting to storage.googleapis.com (storage.googleapis.com)|108.177.119.128|:443... connected.\n",
            "HTTP request sent, awaiting response... 200 OK\n",
            "Length: 347116733 (331M) [text/plain]\n",
            "Saving to: ‘/tmp/glove.6B.100d.txt’\n",
            "\n",
            "/tmp/glove.6B.100d. 100%[===================>] 331.04M  98.6MB/s    in 3.4s    \n",
            "\n",
            "2020-04-08 19:07:02 (98.6 MB/s) - ‘/tmp/glove.6B.100d.txt’ saved [347116733/347116733]\n",
            "\n"
          ],
          "name": "stdout"
        }
      ]
    },
    {
      "cell_type": "code",
      "metadata": {
        "colab_type": "code",
        "id": "71NLk_lpFLNt",
        "outputId": "33348645-0c61-439e-a2c1-a9193190ae6a",
        "colab": {
          "base_uri": "https://localhost:8080/",
          "height": 34
        }
      },
      "source": [
        "print(len(embeddings_matrix))\n",
        "# Expected Output\n",
        "# 138859"
      ],
      "execution_count": 90,
      "outputs": [
        {
          "output_type": "stream",
          "text": [
            "138321\n"
          ],
          "name": "stdout"
        }
      ]
    },
    {
      "cell_type": "code",
      "metadata": {
        "colab_type": "code",
        "id": "iKKvbuEBOGFz",
        "colab": {
          "base_uri": "https://localhost:8080/",
          "height": 1000
        },
        "outputId": "8d7d18e7-f817-42b6-ae4c-2865ebb2c63d"
      },
      "source": [
        "dropout = 0.1\n",
        "\n",
        "model = tf.keras.Sequential([\n",
        "    tf.keras.layers.Embedding(vocab_size+1, embedding_dim, input_length=max_length, weights=[embeddings_matrix], trainable=False, name='Embedding'),\n",
        "    # YOUR CODE HERE - experiment with combining different types, such as convolutions and LSTMs\n",
        "    tf.keras.layers.Dropout(dropout, name='Dropout1'),\n",
        "    #tf.keras.layers.Bidirectional(tf.keras.layers.LSTM(32, return_sequences=True), name='Bidirectional1'),\n",
        "    tf.keras.layers.LSTM(32, return_sequences=True, name='LSTM1'),\n",
        "    tf.keras.layers.Dropout(dropout, name='Dropout2'),\n",
        "    tf.keras.layers.LSTM(32, return_sequences=True, name='LSTM2'),\n",
        "    # tf.keras.layers.Bidirectional(tf.keras.layers.LSTM(32, return_sequences=True), name='Bidirectional2'),\n",
        "    tf.keras.layers.Dropout(dropout, name='Dropout3'),\n",
        "    # tf.keras.layers.LSTM(32, return_sequences=True, name='LSTM3'),\n",
        "    # tf.keras.layers.Bidirectional(tf.keras.layers.LSTM(32, return_sequences=True), name='Bidirectional3'),\n",
        "    # tf.keras.layers.Dropout(dropout, name='Dropout4'),\n",
        "    tf.keras.layers.Conv1D(128, 5, activation='relu', name='Conv1'),\n",
        "    # tf.keras.layers.Dropout(dropout, name='Dropout5'),\n",
        "    # tf.keras.layers.GlobalAveragePooling1D(name='Pooling1'),\n",
        "\n",
        "    # tf.keras.layers.Conv1D(128, 5, activation='relu', name='Conv2'),\n",
        "    tf.keras.layers.Dropout(dropout, name='Dropout6'),\n",
        "    # tf.keras.layers.GlobalAveragePooling1D(name='Pooling2'),\n",
        "    tf.keras.layers.MaxPooling1D(pool_size=4, name='MaxPooling1'),\n",
        "\n",
        "    tf.keras.layers.Flatten(),\n",
        "    tf.keras.layers.Dense(6, activation='relu', name='Dense1'),\n",
        "    tf.keras.layers.Dense(1, activation='sigmoid', name='Dense2')\n",
        "\n",
        "\n",
        "])\n",
        "model.compile(loss='binary_crossentropy',optimizer='adam',metrics=['accuracy'])\n",
        "model.summary()\n",
        "\n",
        "num_epochs = 50\n",
        "history = model.fit(training_sequences, np.array(training_labels), epochs=num_epochs, validation_data=(test_sequences, np.array(test_labels)), verbose=2)\n",
        "\n",
        "print(\"Training Complete\")\n"
      ],
      "execution_count": 94,
      "outputs": [
        {
          "output_type": "stream",
          "text": [
            "Model: \"sequential_34\"\n",
            "_________________________________________________________________\n",
            "Layer (type)                 Output Shape              Param #   \n",
            "=================================================================\n",
            "Embedding (Embedding)        (None, 16, 100)           13832100  \n",
            "_________________________________________________________________\n",
            "Dropout1 (Dropout)           (None, 16, 100)           0         \n",
            "_________________________________________________________________\n",
            "LSTM1 (LSTM)                 (None, 16, 32)            17024     \n",
            "_________________________________________________________________\n",
            "Dropout2 (Dropout)           (None, 16, 32)            0         \n",
            "_________________________________________________________________\n",
            "LSTM2 (LSTM)                 (None, 16, 32)            8320      \n",
            "_________________________________________________________________\n",
            "Dropout3 (Dropout)           (None, 16, 32)            0         \n",
            "_________________________________________________________________\n",
            "Conv1 (Conv1D)               (None, 12, 128)           20608     \n",
            "_________________________________________________________________\n",
            "Dropout6 (Dropout)           (None, 12, 128)           0         \n",
            "_________________________________________________________________\n",
            "MaxPooling1 (MaxPooling1D)   (None, 3, 128)            0         \n",
            "_________________________________________________________________\n",
            "flatten_4 (Flatten)          (None, 384)               0         \n",
            "_________________________________________________________________\n",
            "Dense1 (Dense)               (None, 6)                 2310      \n",
            "_________________________________________________________________\n",
            "Dense2 (Dense)               (None, 1)                 7         \n",
            "=================================================================\n",
            "Total params: 13,880,369\n",
            "Trainable params: 48,269\n",
            "Non-trainable params: 13,832,100\n",
            "_________________________________________________________________\n",
            "Epoch 1/50\n",
            "4500/4500 - 24s - loss: 0.5576 - accuracy: 0.7091 - val_loss: 0.5130 - val_accuracy: 0.7451\n",
            "Epoch 2/50\n",
            "4500/4500 - 23s - loss: 0.5088 - accuracy: 0.7482 - val_loss: 0.4978 - val_accuracy: 0.7538\n",
            "Epoch 3/50\n",
            "4500/4500 - 23s - loss: 0.4946 - accuracy: 0.7572 - val_loss: 0.4823 - val_accuracy: 0.7682\n",
            "Epoch 4/50\n",
            "4500/4500 - 23s - loss: 0.4848 - accuracy: 0.7637 - val_loss: 0.4775 - val_accuracy: 0.7694\n",
            "Epoch 5/50\n",
            "4500/4500 - 23s - loss: 0.4776 - accuracy: 0.7676 - val_loss: 0.4714 - val_accuracy: 0.7729\n",
            "Epoch 6/50\n",
            "4500/4500 - 23s - loss: 0.4715 - accuracy: 0.7713 - val_loss: 0.4703 - val_accuracy: 0.7731\n",
            "Epoch 7/50\n",
            "4500/4500 - 23s - loss: 0.4659 - accuracy: 0.7756 - val_loss: 0.4654 - val_accuracy: 0.7767\n",
            "Epoch 8/50\n",
            "4500/4500 - 23s - loss: 0.4624 - accuracy: 0.7780 - val_loss: 0.4721 - val_accuracy: 0.7681\n",
            "Epoch 9/50\n",
            "4500/4500 - 23s - loss: 0.4581 - accuracy: 0.7811 - val_loss: 0.4652 - val_accuracy: 0.7782\n",
            "Epoch 10/50\n",
            "4500/4500 - 23s - loss: 0.4553 - accuracy: 0.7814 - val_loss: 0.4651 - val_accuracy: 0.7765\n",
            "Epoch 11/50\n",
            "4500/4500 - 23s - loss: 0.4520 - accuracy: 0.7843 - val_loss: 0.4691 - val_accuracy: 0.7681\n",
            "Epoch 12/50\n",
            "4500/4500 - 23s - loss: 0.4517 - accuracy: 0.7836 - val_loss: 0.4610 - val_accuracy: 0.7766\n",
            "Epoch 13/50\n",
            "4500/4500 - 23s - loss: 0.4468 - accuracy: 0.7853 - val_loss: 0.4652 - val_accuracy: 0.7761\n",
            "Epoch 14/50\n",
            "4500/4500 - 23s - loss: 0.4458 - accuracy: 0.7872 - val_loss: 0.4624 - val_accuracy: 0.7778\n",
            "Epoch 15/50\n",
            "4500/4500 - 23s - loss: 0.4425 - accuracy: 0.7886 - val_loss: 0.4627 - val_accuracy: 0.7788\n",
            "Epoch 16/50\n",
            "4500/4500 - 23s - loss: 0.4394 - accuracy: 0.7903 - val_loss: 0.4612 - val_accuracy: 0.7795\n",
            "Epoch 17/50\n",
            "4500/4500 - 23s - loss: 0.4391 - accuracy: 0.7909 - val_loss: 0.4650 - val_accuracy: 0.7779\n",
            "Epoch 18/50\n",
            "4500/4500 - 23s - loss: 0.4366 - accuracy: 0.7927 - val_loss: 0.4601 - val_accuracy: 0.7788\n",
            "Epoch 19/50\n",
            "4500/4500 - 23s - loss: 0.4354 - accuracy: 0.7940 - val_loss: 0.4625 - val_accuracy: 0.7769\n",
            "Epoch 20/50\n",
            "4500/4500 - 23s - loss: 0.4347 - accuracy: 0.7934 - val_loss: 0.4590 - val_accuracy: 0.7802\n",
            "Epoch 21/50\n",
            "4500/4500 - 23s - loss: 0.4323 - accuracy: 0.7954 - val_loss: 0.4611 - val_accuracy: 0.7796\n",
            "Epoch 22/50\n",
            "4500/4500 - 23s - loss: 0.4314 - accuracy: 0.7953 - val_loss: 0.4619 - val_accuracy: 0.7777\n",
            "Epoch 23/50\n",
            "4500/4500 - 23s - loss: 0.4310 - accuracy: 0.7957 - val_loss: 0.4640 - val_accuracy: 0.7769\n",
            "Epoch 24/50\n",
            "4500/4500 - 23s - loss: 0.4280 - accuracy: 0.7974 - val_loss: 0.4612 - val_accuracy: 0.7793\n",
            "Epoch 25/50\n",
            "4500/4500 - 23s - loss: 0.4281 - accuracy: 0.7972 - val_loss: 0.4657 - val_accuracy: 0.7772\n",
            "Epoch 26/50\n",
            "4500/4500 - 23s - loss: 0.4259 - accuracy: 0.7972 - val_loss: 0.4631 - val_accuracy: 0.7781\n",
            "Epoch 27/50\n",
            "4500/4500 - 23s - loss: 0.4257 - accuracy: 0.7988 - val_loss: 0.4627 - val_accuracy: 0.7780\n",
            "Epoch 28/50\n",
            "4500/4500 - 23s - loss: 0.4252 - accuracy: 0.7986 - val_loss: 0.4622 - val_accuracy: 0.7785\n",
            "Epoch 29/50\n",
            "4500/4500 - 23s - loss: 0.4245 - accuracy: 0.7993 - val_loss: 0.4622 - val_accuracy: 0.7782\n",
            "Epoch 30/50\n",
            "4500/4500 - 23s - loss: 0.4238 - accuracy: 0.7997 - val_loss: 0.4670 - val_accuracy: 0.7772\n",
            "Epoch 31/50\n",
            "4500/4500 - 23s - loss: 0.4238 - accuracy: 0.7996 - val_loss: 0.4634 - val_accuracy: 0.7775\n",
            "Epoch 32/50\n",
            "4500/4500 - 23s - loss: 0.4215 - accuracy: 0.8011 - val_loss: 0.4624 - val_accuracy: 0.7782\n",
            "Epoch 33/50\n",
            "4500/4500 - 23s - loss: 0.4212 - accuracy: 0.8019 - val_loss: 0.4649 - val_accuracy: 0.7764\n",
            "Epoch 34/50\n",
            "4500/4500 - 23s - loss: 0.4193 - accuracy: 0.8022 - val_loss: 0.4645 - val_accuracy: 0.7770\n",
            "Epoch 35/50\n",
            "4500/4500 - 23s - loss: 0.4188 - accuracy: 0.8031 - val_loss: 0.4604 - val_accuracy: 0.7787\n",
            "Epoch 36/50\n",
            "4500/4500 - 23s - loss: 0.4186 - accuracy: 0.8031 - val_loss: 0.4639 - val_accuracy: 0.7792\n",
            "Epoch 37/50\n",
            "4500/4500 - 23s - loss: 0.4176 - accuracy: 0.8016 - val_loss: 0.4622 - val_accuracy: 0.7794\n",
            "Epoch 38/50\n",
            "4500/4500 - 24s - loss: 0.4172 - accuracy: 0.8040 - val_loss: 0.4690 - val_accuracy: 0.7753\n",
            "Epoch 39/50\n",
            "4500/4500 - 23s - loss: 0.4170 - accuracy: 0.8043 - val_loss: 0.4647 - val_accuracy: 0.7784\n",
            "Epoch 40/50\n",
            "4500/4500 - 23s - loss: 0.4168 - accuracy: 0.8030 - val_loss: 0.4638 - val_accuracy: 0.7780\n",
            "Epoch 41/50\n",
            "4500/4500 - 23s - loss: 0.4153 - accuracy: 0.8033 - val_loss: 0.4643 - val_accuracy: 0.7777\n",
            "Epoch 42/50\n",
            "4500/4500 - 23s - loss: 0.4166 - accuracy: 0.8039 - val_loss: 0.4626 - val_accuracy: 0.7793\n",
            "Epoch 43/50\n",
            "4500/4500 - 23s - loss: 0.4150 - accuracy: 0.8046 - val_loss: 0.4680 - val_accuracy: 0.7788\n",
            "Epoch 44/50\n",
            "4500/4500 - 23s - loss: 0.4153 - accuracy: 0.8047 - val_loss: 0.4661 - val_accuracy: 0.7788\n",
            "Epoch 45/50\n",
            "4500/4500 - 23s - loss: 0.4141 - accuracy: 0.8052 - val_loss: 0.4631 - val_accuracy: 0.7776\n",
            "Epoch 46/50\n",
            "4500/4500 - 23s - loss: 0.4137 - accuracy: 0.8055 - val_loss: 0.4676 - val_accuracy: 0.7778\n",
            "Epoch 47/50\n",
            "4500/4500 - 23s - loss: 0.4133 - accuracy: 0.8051 - val_loss: 0.4655 - val_accuracy: 0.7792\n",
            "Epoch 48/50\n",
            "4500/4500 - 23s - loss: 0.4121 - accuracy: 0.8055 - val_loss: 0.4641 - val_accuracy: 0.7790\n",
            "Epoch 49/50\n",
            "4500/4500 - 23s - loss: 0.4115 - accuracy: 0.8066 - val_loss: 0.4667 - val_accuracy: 0.7781\n",
            "Epoch 50/50\n",
            "4500/4500 - 23s - loss: 0.4113 - accuracy: 0.8059 - val_loss: 0.4696 - val_accuracy: 0.7776\n",
            "Training Complete\n"
          ],
          "name": "stdout"
        }
      ]
    },
    {
      "cell_type": "code",
      "metadata": {
        "colab_type": "code",
        "id": "qxju4ItJKO8F",
        "colab": {
          "base_uri": "https://localhost:8080/",
          "height": 607
        },
        "outputId": "b4310190-cdcf-41ce-969b-8cb6e970dbd6"
      },
      "source": [
        "import matplotlib.image  as mpimg\n",
        "import matplotlib.pyplot as plt\n",
        "\n",
        "#-----------------------------------------------------------\n",
        "# Retrieve a list of list results on training and test data\n",
        "# sets for each training epoch\n",
        "#-----------------------------------------------------------\n",
        "acc=history.history['accuracy']\n",
        "val_acc=history.history['val_accuracy']\n",
        "loss=history.history['loss']\n",
        "val_loss=history.history['val_loss']\n",
        "\n",
        "epochs=range(len(acc)) # Get number of epochs\n",
        "\n",
        "#------------------------------------------------\n",
        "# Plot training and validation accuracy per epoch\n",
        "#------------------------------------------------\n",
        "plt.plot(epochs, acc, 'r')\n",
        "plt.plot(epochs, val_acc, 'b')\n",
        "plt.title('Training and validation accuracy')\n",
        "plt.xlabel(\"Epochs\")\n",
        "plt.ylabel(\"Accuracy\")\n",
        "plt.legend([\"Accuracy\", \"Validation Accuracy\"])\n",
        "\n",
        "plt.figure()\n",
        "\n",
        "#------------------------------------------------\n",
        "# Plot training and validation loss per epoch\n",
        "#------------------------------------------------\n",
        "plt.plot(epochs, loss, 'r')\n",
        "plt.plot(epochs, val_loss, 'b')\n",
        "plt.title('Training and validation loss')\n",
        "plt.xlabel(\"Epochs\")\n",
        "plt.ylabel(\"Loss\")\n",
        "plt.legend([\"Loss\", \"Validation Loss\"])\n",
        "\n",
        "plt.figure()\n",
        "\n",
        "\n",
        "# Expected Output\n",
        "# A chart where the validation loss does not increase sharply!"
      ],
      "execution_count": 95,
      "outputs": [
        {
          "output_type": "execute_result",
          "data": {
            "text/plain": [
              "<Figure size 432x288 with 0 Axes>"
            ]
          },
          "metadata": {
            "tags": []
          },
          "execution_count": 95
        },
        {
          "output_type": "display_data",
          "data": {
            "image/png": "[encoded data removed]",
            "text/plain": [
              "<Figure size 432x288 with 1 Axes>"
            ]
          },
          "metadata": {
            "tags": []
          }
        },
        {
          "output_type": "display_data",
          "data": {
            "image/png": "[encoded data removed]",
            "text/plain": [
              "<Figure size 432x288 with 1 Axes>"
            ]
          },
          "metadata": {
            "tags": []
          }
        },
        {
          "output_type": "display_data",
          "data": {
            "text/plain": [
              "<Figure size 432x288 with 0 Axes>"
            ]
          },
          "metadata": {
            "tags": []
          }
        }
      ]
    }
  ]
}