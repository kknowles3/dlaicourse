{
  "nbformat": 4,
  "nbformat_minor": 0,
  "metadata": {
    "accelerator": "GPU",
    "colab": {
      "name": "NLP Course - Week 3 Exercise Question.ipynb",
      "provenance": [],
      "toc_visible": true
    },
    "kernelspec": {
      "display_name": "Python 3",
      "name": "python3"
    }
  },
  "cells": [
    {
      "cell_type": "code",
      "metadata": {
        "colab_type": "code",
        "id": "hmA6EzkQJ5jt",
        "colab": {}
      },
      "source": [
        "import json\n",
        "import tensorflow as tf\n",
        "import csv\n",
        "import random\n",
        "import numpy as np\n",
        "\n",
        "from tensorflow.keras.preprocessing.text import Tokenizer\n",
        "from tensorflow.keras.preprocessing.sequence import pad_sequences\n",
        "from tensorflow.keras.utils import to_categorical\n",
        "from tensorflow.keras import regularizers\n",
        "\n",
        "\n",
        "embedding_dim = 100\n",
        "max_length = 16\n",
        "trunc_type='post'\n",
        "padding_type='post'\n",
        "oov_tok = \"<OOV>\"\n",
        "training_size=160000 #Your dataset size here. Experiment using smaller values (i.e. 16000), but don't forget to train on at least 160000 to see the best effects\n",
        "test_portion=.1\n",
        "\n",
        "corpus = []\n"
      ],
      "execution_count": 0,
      "outputs": []
    },
    {
      "cell_type": "code",
      "metadata": {
        "colab_type": "code",
        "id": "bM0l_dORKqE0",
        "outputId": "28a37b3a-3d83-45b9-b7f9-0e7d46161315",
        "colab": {
          "base_uri": "https://localhost:8080/",
          "height": 221
        }
      },
      "source": [
        "# Note that I cleaned the Stanford dataset to remove LATIN1 encoding to make it easier for Python CSV reader\n",
        "# You can do that yourself with:\n",
        "# iconv -f LATIN1 -t UTF8 training.1600000.processed.noemoticon.csv -o training_cleaned.csv\n",
        "# I then hosted it on my site to make it easier to use in this notebook\n",
        "\n",
        "!wget --no-check-certificate \\\n",
        "    https://storage.googleapis.com/laurencemoroney-blog.appspot.com/training_cleaned.csv \\\n",
        "    -O /tmp/training_cleaned.csv\n",
        "\n",
        "num_sentences = 0\n",
        "\n",
        "with open(\"/tmp/training_cleaned.csv\") as csvfile:\n",
        "    reader = csv.reader(csvfile, delimiter=',')\n",
        "    for row in reader:\n",
        "      if num_sentences == 0:\n",
        "        print(type(row[0]))\n",
        "      # Your Code here. Create list items where the first item is the text, found in row[5], and the second is the label. Note that the label is a '0' or a '4' in the text. When it's the former, make\n",
        "      # your label to be 0, otherwise 1. Keep a count of the number of sentences in num_sentences\n",
        "      list_item=[row[5], 0 if row[0] == '0' else 1]\n",
        "      # YOUR CODE HERE\n",
        "      num_sentences = num_sentences + 1\n",
        "      corpus.append(list_item)\n"
      ],
      "execution_count": 84,
      "outputs": [
        {
          "output_type": "stream",
          "text": [
            "--2020-04-08 19:06:07--  https://storage.googleapis.com/laurencemoroney-blog.appspot.com/training_cleaned.csv\n",
            "Resolving storage.googleapis.com (storage.googleapis.com)... 108.177.119.128, 2a00:1450:4013:c01::80\n",
            "Connecting to storage.googleapis.com (storage.googleapis.com)|108.177.119.128|:443... connected.\n",
            "HTTP request sent, awaiting response... 200 OK\n",
            "Length: 238942690 (228M) [application/octet-stream]\n",
            "Saving to: ‘/tmp/training_cleaned.csv’\n",
            "\n",
            "/tmp/training_clean 100%[===================>] 227.87M  74.6MB/s    in 3.1s    \n",
            "\n",
            "2020-04-08 19:06:10 (74.6 MB/s) - ‘/tmp/training_cleaned.csv’ saved [238942690/238942690]\n",
            "\n",
            "<class 'str'>\n"
          ],
          "name": "stdout"
        }
      ]
    },
    {
      "cell_type": "code",
      "metadata": {
        "colab_type": "code",
        "id": "3kxblBUjEUX-",
        "outputId": "975cf385-d0f5-4117-a6ed-bdff3544bec3",
        "colab": {
          "base_uri": "https://localhost:8080/",
          "height": 68
        }
      },
      "source": [
        "print(num_sentences)\n",
        "print(len(corpus))\n",
        "print(corpus[1])\n",
        "\n",
        "# Expected Output:\n",
        "# 1600000\n",
        "# 1600000\n",
        "# [\"is upset that he can't update his Facebook by texting it... and might cry as a result  School today also. Blah!\", 0]"
      ],
      "execution_count": 85,
      "outputs": [
        {
          "output_type": "stream",
          "text": [
            "1600000\n",
            "1600000\n",
            "[\"is upset that he can't update his Facebook by texting it... and might cry as a result  School today also. Blah!\", 0]\n"
          ],
          "name": "stdout"
        }
      ]
    },
    {
      "cell_type": "code",
      "metadata": {
        "id": "qDS8B2xfuBBG",
        "colab_type": "code",
        "colab": {
          "base_uri": "https://localhost:8080/",
          "height": 51
        },
        "outputId": "e635ed9e-c416-4f06-c95a-94eada0232ee"
      },
      "source": [
        "print(type(corpus[0]))\n",
        "print(corpus[1])"
      ],
      "execution_count": 86,
      "outputs": [
        {
          "output_type": "stream",
          "text": [
            "<class 'list'>\n",
            "[\"is upset that he can't update his Facebook by texting it... and might cry as a result  School today also. Blah!\", 0]\n"
          ],
          "name": "stdout"
        }
      ]
    },
    {
      "cell_type": "code",
      "metadata": {
        "colab_type": "code",
        "id": "ohOGz24lsNAD",
        "colab": {}
      },
      "source": [
        "sentences=[]\n",
        "labels=[]\n",
        "random.shuffle(corpus)\n",
        "for x in range(training_size):\n",
        "    sentences.append(corpus[x][0])\n",
        "    labels.append(corpus[x][1])\n",
        "\n",
        "\n",
        "tokenizer = Tokenizer()\n",
        "tokenizer.fit_on_texts(sentences)\n",
        "\n",
        "word_index = tokenizer.word_index\n",
        "vocab_size=len(word_index)\n",
        "\n",
        "sequences = tokenizer.texts_to_sequences(sentences)\n",
        "padded = pad_sequences(sequences, maxlen=max_length, truncating=trunc_type)\n",
        "\n",
        "split = int(test_portion * training_size)\n",
        "\n",
        "test_sequences = padded[:split]\n",
        "training_sequences = padded[split:]\n",
        "test_labels = labels[:split]\n",
        "training_labels = labels[split:]"
      ],
      "execution_count": 0,
      "outputs": []
    },
    {
      "cell_type": "code",
      "metadata": {
        "colab_type": "code",
        "id": "gIrtRem1En3N",
        "outputId": "f01f956a-0825-4312-9d0f-c76db1967bd7",
        "colab": {
          "base_uri": "https://localhost:8080/",
          "height": 51
        }
      },
      "source": [
        "print(vocab_size)\n",
        "print(word_index['i'])\n",
        "# Expected Output\n",
        "# 138858\n",
        "# 1"
      ],
      "execution_count": 88,
      "outputs": [
        {
          "output_type": "stream",
          "text": [
            "138320\n",
            "1\n"
          ],
          "name": "stdout"
        }
      ]
    },
    {
      "cell_type": "code",
      "metadata": {
        "colab_type": "code",
        "id": "C1zdgJkusRh0",
        "outputId": "7a0df11d-0fc5-42da-fb69-995c5f569450",
        "colab": {
          "base_uri": "https://localhost:8080/",
          "height": 204
        }
      },
      "source": [
        "# Note this is the 100 dimension version of GloVe from Stanford\n",
        "# I unzipped and hosted it on my site to make this notebook easier\n",
        "!wget --no-check-certificate \\\n",
        "    https://storage.googleapis.com/laurencemoroney-blog.appspot.com/glove.6B.100d.txt \\\n",
        "    -O /tmp/glove.6B.100d.txt\n",
        "embeddings_index = {};\n",
        "with open('/tmp/glove.6B.100d.txt') as f:\n",
        "    for line in f:\n",
        "        values = line.split();\n",
        "        word = values[0];\n",
        "        coefs = np.asarray(values[1:], dtype='float32');\n",
        "        embeddings_index[word] = coefs;\n",
        "\n",
        "embeddings_matrix = np.zeros((vocab_size+1, embedding_dim));\n",
        "for word, i in word_index.items():\n",
        "    embedding_vector = embeddings_index.get(word);\n",
        "    if embedding_vector is not None:\n",
        "        embeddings_matrix[i] = embedding_vector;"
      ],
      "execution_count": 89,
      "outputs": [
        {
          "output_type": "stream",
          "text": [
            "--2020-04-08 19:06:58--  https://storage.googleapis.com/laurencemoroney-blog.appspot.com/glove.6B.100d.txt\n",
            "Resolving storage.googleapis.com (storage.googleapis.com)... 108.177.119.128, 2a00:1450:4013:c00::80\n",
            "Connecting to storage.googleapis.com (storage.googleapis.com)|108.177.119.128|:443... connected.\n",
            "HTTP request sent, awaiting response... 200 OK\n",
            "Length: 347116733 (331M) [text/plain]\n",
            "Saving to: ‘/tmp/glove.6B.100d.txt’\n",
            "\n",
            "/tmp/glove.6B.100d. 100%[===================>] 331.04M  98.6MB/s    in 3.4s    \n",
            "\n",
            "2020-04-08 19:07:02 (98.6 MB/s) - ‘/tmp/glove.6B.100d.txt’ saved [347116733/347116733]\n",
            "\n"
          ],
          "name": "stdout"
        }
      ]
    },
    {
      "cell_type": "code",
      "metadata": {
        "colab_type": "code",
        "id": "71NLk_lpFLNt",
        "outputId": "33348645-0c61-439e-a2c1-a9193190ae6a",
        "colab": {
          "base_uri": "https://localhost:8080/",
          "height": 34
        }
      },
      "source": [
        "print(len(embeddings_matrix))\n",
        "# Expected Output\n",
        "# 138859"
      ],
      "execution_count": 90,
      "outputs": [
        {
          "output_type": "stream",
          "text": [
            "138321\n"
          ],
          "name": "stdout"
        }
      ]
    },
    {
      "cell_type": "code",
      "metadata": {
        "colab_type": "code",
        "id": "iKKvbuEBOGFz",
        "colab": {
          "base_uri": "https://localhost:8080/",
          "height": 1000
        },
        "outputId": "13838bf9-dc23-48b1-e8ae-c57ae7f8a90e"
      },
      "source": [
        "dropout = 0.1\n",
        "\n",
        "model = tf.keras.Sequential([\n",
        "    tf.keras.layers.Embedding(vocab_size+1, embedding_dim, input_length=max_length, weights=[embeddings_matrix], trainable=False, name='Embedding'),\n",
        "    # YOUR CODE HERE - experiment with combining different types, such as convolutions and LSTMs\n",
        "    tf.keras.layers.Dropout(dropout, name='Dropout1'),\n",
        "    #tf.keras.layers.Bidirectional(tf.keras.layers.LSTM(32, return_sequences=True), name='Bidirectional1'),\n",
        "    tf.keras.layers.LSTM(32, return_sequences=True, name='LSTM1'),\n",
        "    tf.keras.layers.Dropout(dropout, name='Dropout2'),\n",
        "    tf.keras.layers.LSTM(32, return_sequences=True, name='LSTM2'),\n",
        "    # tf.keras.layers.Bidirectional(tf.keras.layers.LSTM(32, return_sequences=True), name='Bidirectional2'),\n",
        "    tf.keras.layers.Dropout(dropout, name='Dropout3'),\n",
        "    # tf.keras.layers.LSTM(32, return_sequences=True, name='LSTM3'),\n",
        "    # tf.keras.layers.Bidirectional(tf.keras.layers.LSTM(32, return_sequences=True), name='Bidirectional3'),\n",
        "    # tf.keras.layers.Dropout(dropout, name='Dropout4'),\n",
        "    tf.keras.layers.Conv1D(128, 5, activation='relu', name='Conv1'),\n",
        "    # tf.keras.layers.Dropout(dropout, name='Dropout5'),\n",
        "    # tf.keras.layers.GlobalAveragePooling1D(name='Pooling1'),\n",
        "\n",
        "    tf.keras.layers.Conv1D(128, 5, activation='relu', name='Conv2'),\n",
        "    tf.keras.layers.Dropout(dropout, name='Dropout6'),\n",
        "    # tf.keras.layers.GlobalAveragePooling1D(name='Pooling2'),\n",
        "    tf.keras.layers.MaxPooling1D(pool_size=4, name='MaxPooling1'),\n",
        "\n",
        "    # tf.keras.layers.Flatten(),\n",
        "    tf.keras.layers.Dense(6, activation='relu', name='Dense1'),\n",
        "    tf.keras.layers.Dense(1, activation='sigmoid', name='Dense2')\n",
        "\n",
        "\n",
        "])\n",
        "model.compile(loss='binary_crossentropy',optimizer='adam',metrics=['accuracy'])\n",
        "model.summary()\n",
        "\n",
        "num_epochs = 50\n",
        "history = model.fit(training_sequences, np.array(training_labels), epochs=num_epochs, validation_data=(test_sequences, np.array(test_labels)), verbose=2)\n",
        "\n",
        "print(\"Training Complete\")\n"
      ],
      "execution_count": 91,
      "outputs": [
        {
          "output_type": "stream",
          "text": [
            "Model: \"sequential_32\"\n",
            "_________________________________________________________________\n",
            "Layer (type)                 Output Shape              Param #   \n",
            "=================================================================\n",
            "Embedding (Embedding)        (None, 16, 100)           13832100  \n",
            "_________________________________________________________________\n",
            "Dropout1 (Dropout)           (None, 16, 100)           0         \n",
            "_________________________________________________________________\n",
            "LSTM1 (LSTM)                 (None, 16, 32)            17024     \n",
            "_________________________________________________________________\n",
            "Dropout2 (Dropout)           (None, 16, 32)            0         \n",
            "_________________________________________________________________\n",
            "LSTM2 (LSTM)                 (None, 16, 32)            8320      \n",
            "_________________________________________________________________\n",
            "Dropout3 (Dropout)           (None, 16, 32)            0         \n",
            "_________________________________________________________________\n",
            "Conv1 (Conv1D)               (None, 12, 128)           20608     \n",
            "_________________________________________________________________\n",
            "Conv2 (Conv1D)               (None, 8, 128)            82048     \n",
            "_________________________________________________________________\n",
            "Dropout6 (Dropout)           (None, 8, 128)            0         \n",
            "_________________________________________________________________\n",
            "Pooling2 (GlobalAveragePooli (None, 128)               0         \n",
            "_________________________________________________________________\n",
            "Dense1 (Dense)               (None, 6)                 774       \n",
            "_________________________________________________________________\n",
            "Dense2 (Dense)               (None, 1)                 7         \n",
            "=================================================================\n",
            "Total params: 13,960,881\n",
            "Trainable params: 128,781\n",
            "Non-trainable params: 13,832,100\n",
            "_________________________________________________________________\n",
            "Epoch 1/50\n",
            "4500/4500 - 24s - loss: 0.5640 - accuracy: 0.7049 - val_loss: 0.5186 - val_accuracy: 0.7435\n",
            "Epoch 2/50\n",
            "4500/4500 - 24s - loss: 0.5129 - accuracy: 0.7459 - val_loss: 0.5130 - val_accuracy: 0.7462\n",
            "Epoch 3/50\n",
            "4500/4500 - 24s - loss: 0.4981 - accuracy: 0.7558 - val_loss: 0.4884 - val_accuracy: 0.7618\n",
            "Epoch 4/50\n",
            "4500/4500 - 24s - loss: 0.4880 - accuracy: 0.7629 - val_loss: 0.4821 - val_accuracy: 0.7657\n",
            "Epoch 5/50\n",
            "4500/4500 - 25s - loss: 0.4804 - accuracy: 0.7677 - val_loss: 0.4779 - val_accuracy: 0.7699\n",
            "Epoch 6/50\n",
            "4500/4500 - 24s - loss: 0.4745 - accuracy: 0.7701 - val_loss: 0.4763 - val_accuracy: 0.7713\n",
            "Epoch 7/50\n",
            "4500/4500 - 24s - loss: 0.4691 - accuracy: 0.7739 - val_loss: 0.4736 - val_accuracy: 0.7735\n",
            "Epoch 8/50\n",
            "4500/4500 - 24s - loss: 0.4664 - accuracy: 0.7754 - val_loss: 0.4669 - val_accuracy: 0.7766\n",
            "Epoch 9/50\n",
            "4500/4500 - 24s - loss: 0.4619 - accuracy: 0.7773 - val_loss: 0.4645 - val_accuracy: 0.7799\n",
            "Epoch 10/50\n",
            "4500/4500 - 24s - loss: 0.4584 - accuracy: 0.7805 - val_loss: 0.4716 - val_accuracy: 0.7757\n",
            "Epoch 11/50\n",
            "4500/4500 - 24s - loss: 0.4551 - accuracy: 0.7813 - val_loss: 0.4729 - val_accuracy: 0.7720\n",
            "Epoch 12/50\n",
            "4500/4500 - 24s - loss: 0.4526 - accuracy: 0.7834 - val_loss: 0.4682 - val_accuracy: 0.7761\n",
            "Epoch 13/50\n",
            "4500/4500 - 24s - loss: 0.4495 - accuracy: 0.7864 - val_loss: 0.4657 - val_accuracy: 0.7787\n",
            "Epoch 14/50\n",
            "4500/4500 - 24s - loss: 0.4475 - accuracy: 0.7859 - val_loss: 0.4684 - val_accuracy: 0.7759\n",
            "Epoch 15/50\n",
            "4500/4500 - 24s - loss: 0.4465 - accuracy: 0.7869 - val_loss: 0.4662 - val_accuracy: 0.7749\n",
            "Epoch 16/50\n",
            "4500/4500 - 24s - loss: 0.4437 - accuracy: 0.7886 - val_loss: 0.4684 - val_accuracy: 0.7752\n",
            "Epoch 17/50\n",
            "4500/4500 - 24s - loss: 0.4416 - accuracy: 0.7905 - val_loss: 0.4687 - val_accuracy: 0.7784\n",
            "Epoch 18/50\n",
            "4500/4500 - 25s - loss: 0.4395 - accuracy: 0.7903 - val_loss: 0.4684 - val_accuracy: 0.7770\n",
            "Epoch 19/50\n",
            "4500/4500 - 24s - loss: 0.4379 - accuracy: 0.7922 - val_loss: 0.4672 - val_accuracy: 0.7761\n",
            "Epoch 20/50\n",
            "4500/4500 - 24s - loss: 0.4370 - accuracy: 0.7913 - val_loss: 0.4683 - val_accuracy: 0.7794\n",
            "Epoch 21/50\n",
            "4500/4500 - 24s - loss: 0.4350 - accuracy: 0.7935 - val_loss: 0.4652 - val_accuracy: 0.7768\n",
            "Epoch 22/50\n",
            "4500/4500 - 24s - loss: 0.4340 - accuracy: 0.7943 - val_loss: 0.4725 - val_accuracy: 0.7764\n",
            "Epoch 23/50\n",
            "4500/4500 - 24s - loss: 0.4331 - accuracy: 0.7943 - val_loss: 0.4652 - val_accuracy: 0.7781\n",
            "Epoch 24/50\n",
            "4500/4500 - 24s - loss: 0.4317 - accuracy: 0.7958 - val_loss: 0.4631 - val_accuracy: 0.7761\n",
            "Epoch 25/50\n",
            "4500/4500 - 24s - loss: 0.4305 - accuracy: 0.7958 - val_loss: 0.4681 - val_accuracy: 0.7776\n",
            "Epoch 26/50\n",
            "4500/4500 - 24s - loss: 0.4288 - accuracy: 0.7972 - val_loss: 0.4726 - val_accuracy: 0.7782\n",
            "Epoch 27/50\n",
            "4500/4500 - 24s - loss: 0.4286 - accuracy: 0.7980 - val_loss: 0.4680 - val_accuracy: 0.7764\n",
            "Epoch 28/50\n",
            "4500/4500 - 24s - loss: 0.4271 - accuracy: 0.7984 - val_loss: 0.4656 - val_accuracy: 0.7797\n",
            "Epoch 29/50\n",
            "4500/4500 - 24s - loss: 0.4263 - accuracy: 0.7986 - val_loss: 0.4694 - val_accuracy: 0.7794\n",
            "Epoch 30/50\n",
            "4500/4500 - 24s - loss: 0.4245 - accuracy: 0.7997 - val_loss: 0.4719 - val_accuracy: 0.7772\n",
            "Epoch 31/50\n",
            "4500/4500 - 25s - loss: 0.4236 - accuracy: 0.7997 - val_loss: 0.4694 - val_accuracy: 0.7765\n",
            "Epoch 32/50\n",
            "4500/4500 - 24s - loss: 0.4234 - accuracy: 0.7994 - val_loss: 0.4660 - val_accuracy: 0.7741\n",
            "Epoch 33/50\n",
            "4500/4500 - 24s - loss: 0.4240 - accuracy: 0.8000 - val_loss: 0.4705 - val_accuracy: 0.7768\n",
            "Epoch 34/50\n",
            "4500/4500 - 24s - loss: 0.4222 - accuracy: 0.8005 - val_loss: 0.4753 - val_accuracy: 0.7756\n",
            "Epoch 35/50\n",
            "4500/4500 - 24s - loss: 0.4216 - accuracy: 0.8006 - val_loss: 0.4710 - val_accuracy: 0.7749\n",
            "Epoch 36/50\n",
            "4500/4500 - 24s - loss: 0.4197 - accuracy: 0.8018 - val_loss: 0.4805 - val_accuracy: 0.7752\n",
            "Epoch 37/50\n",
            "4500/4500 - 24s - loss: 0.4187 - accuracy: 0.8030 - val_loss: 0.4760 - val_accuracy: 0.7738\n",
            "Epoch 38/50\n",
            "4500/4500 - 24s - loss: 0.4189 - accuracy: 0.8021 - val_loss: 0.4903 - val_accuracy: 0.7751\n",
            "Epoch 39/50\n",
            "4500/4500 - 24s - loss: 0.4182 - accuracy: 0.8027 - val_loss: 0.4753 - val_accuracy: 0.7780\n",
            "Epoch 40/50\n",
            "4500/4500 - 24s - loss: 0.4175 - accuracy: 0.8033 - val_loss: 0.4727 - val_accuracy: 0.7752\n",
            "Epoch 41/50\n",
            "4500/4500 - 24s - loss: 0.4180 - accuracy: 0.8039 - val_loss: 0.4720 - val_accuracy: 0.7786\n",
            "Epoch 42/50\n",
            "4500/4500 - 24s - loss: 0.4156 - accuracy: 0.8051 - val_loss: 0.4726 - val_accuracy: 0.7720\n",
            "Epoch 43/50\n",
            "4500/4500 - 24s - loss: 0.4152 - accuracy: 0.8040 - val_loss: 0.4750 - val_accuracy: 0.7766\n",
            "Epoch 44/50\n",
            "4500/4500 - 25s - loss: 0.4151 - accuracy: 0.8045 - val_loss: 0.4730 - val_accuracy: 0.7786\n",
            "Epoch 45/50\n",
            "4500/4500 - 24s - loss: 0.4134 - accuracy: 0.8047 - val_loss: 0.4753 - val_accuracy: 0.7761\n",
            "Epoch 46/50\n",
            "4500/4500 - 24s - loss: 0.4139 - accuracy: 0.8043 - val_loss: 0.4729 - val_accuracy: 0.7763\n",
            "Epoch 47/50\n",
            "4500/4500 - 24s - loss: 0.4121 - accuracy: 0.8064 - val_loss: 0.4732 - val_accuracy: 0.7759\n",
            "Epoch 48/50\n",
            "4500/4500 - 24s - loss: 0.4126 - accuracy: 0.8052 - val_loss: 0.4690 - val_accuracy: 0.7757\n",
            "Epoch 49/50\n",
            "4500/4500 - 24s - loss: 0.4119 - accuracy: 0.8059 - val_loss: 0.4741 - val_accuracy: 0.7761\n",
            "Epoch 50/50\n",
            "4500/4500 - 24s - loss: 0.4114 - accuracy: 0.8061 - val_loss: 0.4741 - val_accuracy: 0.7768\n",
            "Training Complete\n"
          ],
          "name": "stdout"
        }
      ]
    },
    {
      "cell_type": "code",
      "metadata": {
        "colab_type": "code",
        "id": "qxju4ItJKO8F",
        "colab": {
          "base_uri": "https://localhost:8080/",
          "height": 607
        },
        "outputId": "d7528daf-356e-49df-8af1-9c4d265239c1"
      },
      "source": [
        "import matplotlib.image  as mpimg\n",
        "import matplotlib.pyplot as plt\n",
        "\n",
        "#-----------------------------------------------------------\n",
        "# Retrieve a list of list results on training and test data\n",
        "# sets for each training epoch\n",
        "#-----------------------------------------------------------\n",
        "acc=history.history['accuracy']\n",
        "val_acc=history.history['val_accuracy']\n",
        "loss=history.history['loss']\n",
        "val_loss=history.history['val_loss']\n",
        "\n",
        "epochs=range(len(acc)) # Get number of epochs\n",
        "\n",
        "#------------------------------------------------\n",
        "# Plot training and validation accuracy per epoch\n",
        "#------------------------------------------------\n",
        "plt.plot(epochs, acc, 'r')\n",
        "plt.plot(epochs, val_acc, 'b')\n",
        "plt.title('Training and validation accuracy')\n",
        "plt.xlabel(\"Epochs\")\n",
        "plt.ylabel(\"Accuracy\")\n",
        "plt.legend([\"Accuracy\", \"Validation Accuracy\"])\n",
        "\n",
        "plt.figure()\n",
        "\n",
        "#------------------------------------------------\n",
        "# Plot training and validation loss per epoch\n",
        "#------------------------------------------------\n",
        "plt.plot(epochs, loss, 'r')\n",
        "plt.plot(epochs, val_loss, 'b')\n",
        "plt.title('Training and validation loss')\n",
        "plt.xlabel(\"Epochs\")\n",
        "plt.ylabel(\"Loss\")\n",
        "plt.legend([\"Loss\", \"Validation Loss\"])\n",
        "\n",
        "plt.figure()\n",
        "\n",
        "\n",
        "# Expected Output\n",
        "# A chart where the validation loss does not increase sharply!"
      ],
      "execution_count": 92,
      "outputs": [
        {
          "output_type": "execute_result",
          "data": {
            "text/plain": [
              "<Figure size 432x288 with 0 Axes>"
            ]
          },
          "metadata": {
            "tags": []
          },
          "execution_count": 92
        },
        {
          "output_type": "display_data",
          "data": {
            "image/png": "[encoded data removed]",
            "text/plain": [
              "<Figure size 432x288 with 1 Axes>"
            ]
          },
          "metadata": {
            "tags": []
          }
        },
        {
          "output_type": "display_data",
          "data": {
            "image/png": "[encoded data removed]",
            "text/plain": [
              "<Figure size 432x288 with 1 Axes>"
            ]
          },
          "metadata": {
            "tags": []
          }
        },
        {
          "output_type": "display_data",
          "data": {
            "text/plain": [
              "<Figure size 432x288 with 0 Axes>"
            ]
          },
          "metadata": {
            "tags": []
          }
        }
      ]
    }
  ]
}