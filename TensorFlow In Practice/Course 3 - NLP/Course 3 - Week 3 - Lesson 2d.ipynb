{
  "nbformat": 4,
  "nbformat_minor": 0,
  "metadata": {
    "accelerator": "GPU",
    "colab": {
      "name": "Course 3 - Week 3 - Lesson 2d.ipynb",
      "provenance": [],
      "collapsed_sections": [],
      "toc_visible": true
    },
    "kernelspec": {
      "display_name": "Python 3",
      "name": "python3"
    },
    "widgets": {
      "application/vnd.jupyter.widget-state+json": {
        "730f40fe363b47ceb6a2f37d5994b246": {
          "model_module": "@jupyter-widgets/controls",
          "model_name": "HBoxModel",
          "state": {
            "_view_name": "HBoxView",
            "_dom_classes": [],
            "_model_name": "HBoxModel",
            "_view_module": "@jupyter-widgets/controls",
            "_model_module_version": "1.5.0",
            "_view_count": null,
            "_view_module_version": "1.5.0",
            "box_style": "",
            "layout": "IPY_MODEL_8d0212139d6a4866a253d385fd418369",
            "_model_module": "@jupyter-widgets/controls",
            "children": [
              "IPY_MODEL_5d0c5984e24a4ac1b5556a8696a6132b",
              "IPY_MODEL_0620f27512484668b16c37e8ac77935c"
            ]
          }
        },
        "8d0212139d6a4866a253d385fd418369": {
          "model_module": "@jupyter-widgets/base",
          "model_name": "LayoutModel",
          "state": {
            "_view_name": "LayoutView",
            "grid_template_rows": null,
            "right": null,
            "justify_content": null,
            "_view_module": "@jupyter-widgets/base",
            "overflow": null,
            "_model_module_version": "1.2.0",
            "_view_count": null,
            "flex_flow": null,
            "width": null,
            "min_width": null,
            "border": null,
            "align_items": null,
            "bottom": null,
            "_model_module": "@jupyter-widgets/base",
            "top": null,
            "grid_column": null,
            "overflow_y": null,
            "overflow_x": null,
            "grid_auto_flow": null,
            "grid_area": null,
            "grid_template_columns": null,
            "flex": null,
            "_model_name": "LayoutModel",
            "justify_items": null,
            "grid_row": null,
            "max_height": null,
            "align_content": null,
            "visibility": null,
            "align_self": null,
            "height": null,
            "min_height": null,
            "padding": null,
            "grid_auto_rows": null,
            "grid_gap": null,
            "max_width": null,
            "order": null,
            "_view_module_version": "1.2.0",
            "grid_template_areas": null,
            "object_position": null,
            "object_fit": null,
            "grid_auto_columns": null,
            "margin": null,
            "display": null,
            "left": null
          }
        },
        "5d0c5984e24a4ac1b5556a8696a6132b": {
          "model_module": "@jupyter-widgets/controls",
          "model_name": "IntProgressModel",
          "state": {
            "_view_name": "ProgressView",
            "style": "IPY_MODEL_4b850e0ba1a7481fb8d9aac700f59f57",
            "_dom_classes": [],
            "description": "Dl Completed...: 100%",
            "_model_name": "IntProgressModel",
            "bar_style": "success",
            "max": 1,
            "_view_module": "@jupyter-widgets/controls",
            "_model_module_version": "1.5.0",
            "value": 1,
            "_view_count": null,
            "_view_module_version": "1.5.0",
            "orientation": "horizontal",
            "min": 0,
            "description_tooltip": null,
            "_model_module": "@jupyter-widgets/controls",
            "layout": "IPY_MODEL_a99224853e0046edb5593a94d13e6be3"
          }
        },
        "0620f27512484668b16c37e8ac77935c": {
          "model_module": "@jupyter-widgets/controls",
          "model_name": "HTMLModel",
          "state": {
            "_view_name": "HTMLView",
            "style": "IPY_MODEL_80e9392515594f94884a02944559c6d0",
            "_dom_classes": [],
            "description": "",
            "_model_name": "HTMLModel",
            "placeholder": "​",
            "_view_module": "@jupyter-widgets/controls",
            "_model_module_version": "1.5.0",
            "value": " 1/1 [00:03&lt;00:00,  3.91s/ url]",
            "_view_count": null,
            "_view_module_version": "1.5.0",
            "description_tooltip": null,
            "_model_module": "@jupyter-widgets/controls",
            "layout": "IPY_MODEL_be1f7197cfdc45a39b3fecb000b3d088"
          }
        },
        "4b850e0ba1a7481fb8d9aac700f59f57": {
          "model_module": "@jupyter-widgets/controls",
          "model_name": "ProgressStyleModel",
          "state": {
            "_view_name": "StyleView",
            "_model_name": "ProgressStyleModel",
            "description_width": "initial",
            "_view_module": "@jupyter-widgets/base",
            "_model_module_version": "1.5.0",
            "_view_count": null,
            "_view_module_version": "1.2.0",
            "bar_color": null,
            "_model_module": "@jupyter-widgets/controls"
          }
        },
        "a99224853e0046edb5593a94d13e6be3": {
          "model_module": "@jupyter-widgets/base",
          "model_name": "LayoutModel",
          "state": {
            "_view_name": "LayoutView",
            "grid_template_rows": null,
            "right": null,
            "justify_content": null,
            "_view_module": "@jupyter-widgets/base",
            "overflow": null,
            "_model_module_version": "1.2.0",
            "_view_count": null,
            "flex_flow": null,
            "width": null,
            "min_width": null,
            "border": null,
            "align_items": null,
            "bottom": null,
            "_model_module": "@jupyter-widgets/base",
            "top": null,
            "grid_column": null,
            "overflow_y": null,
            "overflow_x": null,
            "grid_auto_flow": null,
            "grid_area": null,
            "grid_template_columns": null,
            "flex": null,
            "_model_name": "LayoutModel",
            "justify_items": null,
            "grid_row": null,
            "max_height": null,
            "align_content": null,
            "visibility": null,
            "align_self": null,
            "height": null,
            "min_height": null,
            "padding": null,
            "grid_auto_rows": null,
            "grid_gap": null,
            "max_width": null,
            "order": null,
            "_view_module_version": "1.2.0",
            "grid_template_areas": null,
            "object_position": null,
            "object_fit": null,
            "grid_auto_columns": null,
            "margin": null,
            "display": null,
            "left": null
          }
        },
        "80e9392515594f94884a02944559c6d0": {
          "model_module": "@jupyter-widgets/controls",
          "model_name": "DescriptionStyleModel",
          "state": {
            "_view_name": "StyleView",
            "_model_name": "DescriptionStyleModel",
            "description_width": "",
            "_view_module": "@jupyter-widgets/base",
            "_model_module_version": "1.5.0",
            "_view_count": null,
            "_view_module_version": "1.2.0",
            "_model_module": "@jupyter-widgets/controls"
          }
        },
        "be1f7197cfdc45a39b3fecb000b3d088": {
          "model_module": "@jupyter-widgets/base",
          "model_name": "LayoutModel",
          "state": {
            "_view_name": "LayoutView",
            "grid_template_rows": null,
            "right": null,
            "justify_content": null,
            "_view_module": "@jupyter-widgets/base",
            "overflow": null,
            "_model_module_version": "1.2.0",
            "_view_count": null,
            "flex_flow": null,
            "width": null,
            "min_width": null,
            "border": null,
            "align_items": null,
            "bottom": null,
            "_model_module": "@jupyter-widgets/base",
            "top": null,
            "grid_column": null,
            "overflow_y": null,
            "overflow_x": null,
            "grid_auto_flow": null,
            "grid_area": null,
            "grid_template_columns": null,
            "flex": null,
            "_model_name": "LayoutModel",
            "justify_items": null,
            "grid_row": null,
            "max_height": null,
            "align_content": null,
            "visibility": null,
            "align_self": null,
            "height": null,
            "min_height": null,
            "padding": null,
            "grid_auto_rows": null,
            "grid_gap": null,
            "max_width": null,
            "order": null,
            "_view_module_version": "1.2.0",
            "grid_template_areas": null,
            "object_position": null,
            "object_fit": null,
            "grid_auto_columns": null,
            "margin": null,
            "display": null,
            "left": null
          }
        },
        "ced68c0cb6cd4e01ae9e1385db5f70a1": {
          "model_module": "@jupyter-widgets/controls",
          "model_name": "HBoxModel",
          "state": {
            "_view_name": "HBoxView",
            "_dom_classes": [],
            "_model_name": "HBoxModel",
            "_view_module": "@jupyter-widgets/controls",
            "_model_module_version": "1.5.0",
            "_view_count": null,
            "_view_module_version": "1.5.0",
            "box_style": "",
            "layout": "IPY_MODEL_591ab9639dbd40c6a08290ae60245a7d",
            "_model_module": "@jupyter-widgets/controls",
            "children": [
              "IPY_MODEL_88fb46d0c7ac4ec8acb315e4669b9424",
              "IPY_MODEL_53e88b82ec4c4bda87f1dde37dad5490"
            ]
          }
        },
        "591ab9639dbd40c6a08290ae60245a7d": {
          "model_module": "@jupyter-widgets/base",
          "model_name": "LayoutModel",
          "state": {
            "_view_name": "LayoutView",
            "grid_template_rows": null,
            "right": null,
            "justify_content": null,
            "_view_module": "@jupyter-widgets/base",
            "overflow": null,
            "_model_module_version": "1.2.0",
            "_view_count": null,
            "flex_flow": null,
            "width": null,
            "min_width": null,
            "border": null,
            "align_items": null,
            "bottom": null,
            "_model_module": "@jupyter-widgets/base",
            "top": null,
            "grid_column": null,
            "overflow_y": null,
            "overflow_x": null,
            "grid_auto_flow": null,
            "grid_area": null,
            "grid_template_columns": null,
            "flex": null,
            "_model_name": "LayoutModel",
            "justify_items": null,
            "grid_row": null,
            "max_height": null,
            "align_content": null,
            "visibility": null,
            "align_self": null,
            "height": null,
            "min_height": null,
            "padding": null,
            "grid_auto_rows": null,
            "grid_gap": null,
            "max_width": null,
            "order": null,
            "_view_module_version": "1.2.0",
            "grid_template_areas": null,
            "object_position": null,
            "object_fit": null,
            "grid_auto_columns": null,
            "margin": null,
            "display": null,
            "left": null
          }
        },
        "88fb46d0c7ac4ec8acb315e4669b9424": {
          "model_module": "@jupyter-widgets/controls",
          "model_name": "IntProgressModel",
          "state": {
            "_view_name": "ProgressView",
            "style": "IPY_MODEL_920f9ce0129944608e0d8fd6f1a91d23",
            "_dom_classes": [],
            "description": "Dl Size...: 100%",
            "_model_name": "IntProgressModel",
            "bar_style": "success",
            "max": 1,
            "_view_module": "@jupyter-widgets/controls",
            "_model_module_version": "1.5.0",
            "value": 1,
            "_view_count": null,
            "_view_module_version": "1.5.0",
            "orientation": "horizontal",
            "min": 0,
            "description_tooltip": null,
            "_model_module": "@jupyter-widgets/controls",
            "layout": "IPY_MODEL_d2ff5db341d5495cad11ffb68e0052a2"
          }
        },
        "53e88b82ec4c4bda87f1dde37dad5490": {
          "model_module": "@jupyter-widgets/controls",
          "model_name": "HTMLModel",
          "state": {
            "_view_name": "HTMLView",
            "style": "IPY_MODEL_83b759844b954e96b67eb7973aa34f2c",
            "_dom_classes": [],
            "description": "",
            "_model_name": "HTMLModel",
            "placeholder": "​",
            "_view_module": "@jupyter-widgets/controls",
            "_model_module_version": "1.5.0",
            "value": " 80/80 [00:03&lt;00:00, 20.63 MiB/s]",
            "_view_count": null,
            "_view_module_version": "1.5.0",
            "description_tooltip": null,
            "_model_module": "@jupyter-widgets/controls",
            "layout": "IPY_MODEL_021f1776b9f34d70b0bafd3aef469560"
          }
        },
        "920f9ce0129944608e0d8fd6f1a91d23": {
          "model_module": "@jupyter-widgets/controls",
          "model_name": "ProgressStyleModel",
          "state": {
            "_view_name": "StyleView",
            "_model_name": "ProgressStyleModel",
            "description_width": "initial",
            "_view_module": "@jupyter-widgets/base",
            "_model_module_version": "1.5.0",
            "_view_count": null,
            "_view_module_version": "1.2.0",
            "bar_color": null,
            "_model_module": "@jupyter-widgets/controls"
          }
        },
        "d2ff5db341d5495cad11ffb68e0052a2": {
          "model_module": "@jupyter-widgets/base",
          "model_name": "LayoutModel",
          "state": {
            "_view_name": "LayoutView",
            "grid_template_rows": null,
            "right": null,
            "justify_content": null,
            "_view_module": "@jupyter-widgets/base",
            "overflow": null,
            "_model_module_version": "1.2.0",
            "_view_count": null,
            "flex_flow": null,
            "width": null,
            "min_width": null,
            "border": null,
            "align_items": null,
            "bottom": null,
            "_model_module": "@jupyter-widgets/base",
            "top": null,
            "grid_column": null,
            "overflow_y": null,
            "overflow_x": null,
            "grid_auto_flow": null,
            "grid_area": null,
            "grid_template_columns": null,
            "flex": null,
            "_model_name": "LayoutModel",
            "justify_items": null,
            "grid_row": null,
            "max_height": null,
            "align_content": null,
            "visibility": null,
            "align_self": null,
            "height": null,
            "min_height": null,
            "padding": null,
            "grid_auto_rows": null,
            "grid_gap": null,
            "max_width": null,
            "order": null,
            "_view_module_version": "1.2.0",
            "grid_template_areas": null,
            "object_position": null,
            "object_fit": null,
            "grid_auto_columns": null,
            "margin": null,
            "display": null,
            "left": null
          }
        },
        "83b759844b954e96b67eb7973aa34f2c": {
          "model_module": "@jupyter-widgets/controls",
          "model_name": "DescriptionStyleModel",
          "state": {
            "_view_name": "StyleView",
            "_model_name": "DescriptionStyleModel",
            "description_width": "",
            "_view_module": "@jupyter-widgets/base",
            "_model_module_version": "1.5.0",
            "_view_count": null,
            "_view_module_version": "1.2.0",
            "_model_module": "@jupyter-widgets/controls"
          }
        },
        "021f1776b9f34d70b0bafd3aef469560": {
          "model_module": "@jupyter-widgets/base",
          "model_name": "LayoutModel",
          "state": {
            "_view_name": "LayoutView",
            "grid_template_rows": null,
            "right": null,
            "justify_content": null,
            "_view_module": "@jupyter-widgets/base",
            "overflow": null,
            "_model_module_version": "1.2.0",
            "_view_count": null,
            "flex_flow": null,
            "width": null,
            "min_width": null,
            "border": null,
            "align_items": null,
            "bottom": null,
            "_model_module": "@jupyter-widgets/base",
            "top": null,
            "grid_column": null,
            "overflow_y": null,
            "overflow_x": null,
            "grid_auto_flow": null,
            "grid_area": null,
            "grid_template_columns": null,
            "flex": null,
            "_model_name": "LayoutModel",
            "justify_items": null,
            "grid_row": null,
            "max_height": null,
            "align_content": null,
            "visibility": null,
            "align_self": null,
            "height": null,
            "min_height": null,
            "padding": null,
            "grid_auto_rows": null,
            "grid_gap": null,
            "max_width": null,
            "order": null,
            "_view_module_version": "1.2.0",
            "grid_template_areas": null,
            "object_position": null,
            "object_fit": null,
            "grid_auto_columns": null,
            "margin": null,
            "display": null,
            "left": null
          }
        },
        "a09d6ea9015f4c97bb31998e604198bb": {
          "model_module": "@jupyter-widgets/controls",
          "model_name": "HBoxModel",
          "state": {
            "_view_name": "HBoxView",
            "_dom_classes": [],
            "_model_name": "HBoxModel",
            "_view_module": "@jupyter-widgets/controls",
            "_model_module_version": "1.5.0",
            "_view_count": null,
            "_view_module_version": "1.5.0",
            "box_style": "",
            "layout": "IPY_MODEL_861ca568da284dbbbdcdbd861dc3bd62",
            "_model_module": "@jupyter-widgets/controls",
            "children": [
              "IPY_MODEL_83212000160049d19c17f364c1bb6dad",
              "IPY_MODEL_66b68f139f694bbfbc3c4db133ca3d33"
            ]
          }
        },
        "861ca568da284dbbbdcdbd861dc3bd62": {
          "model_module": "@jupyter-widgets/base",
          "model_name": "LayoutModel",
          "state": {
            "_view_name": "LayoutView",
            "grid_template_rows": null,
            "right": null,
            "justify_content": null,
            "_view_module": "@jupyter-widgets/base",
            "overflow": null,
            "_model_module_version": "1.2.0",
            "_view_count": null,
            "flex_flow": null,
            "width": null,
            "min_width": null,
            "border": null,
            "align_items": null,
            "bottom": null,
            "_model_module": "@jupyter-widgets/base",
            "top": null,
            "grid_column": null,
            "overflow_y": null,
            "overflow_x": null,
            "grid_auto_flow": null,
            "grid_area": null,
            "grid_template_columns": null,
            "flex": null,
            "_model_name": "LayoutModel",
            "justify_items": null,
            "grid_row": null,
            "max_height": null,
            "align_content": null,
            "visibility": null,
            "align_self": null,
            "height": null,
            "min_height": null,
            "padding": null,
            "grid_auto_rows": null,
            "grid_gap": null,
            "max_width": null,
            "order": null,
            "_view_module_version": "1.2.0",
            "grid_template_areas": null,
            "object_position": null,
            "object_fit": null,
            "grid_auto_columns": null,
            "margin": null,
            "display": null,
            "left": null
          }
        },
        "83212000160049d19c17f364c1bb6dad": {
          "model_module": "@jupyter-widgets/controls",
          "model_name": "IntProgressModel",
          "state": {
            "_view_name": "ProgressView",
            "style": "IPY_MODEL_81fc3ace28844e6e8cf8f73c28fc8af0",
            "_dom_classes": [],
            "description": "",
            "_model_name": "IntProgressModel",
            "bar_style": "info",
            "max": 1,
            "_view_module": "@jupyter-widgets/controls",
            "_model_module_version": "1.5.0",
            "value": 1,
            "_view_count": null,
            "_view_module_version": "1.5.0",
            "orientation": "horizontal",
            "min": 0,
            "description_tooltip": null,
            "_model_module": "@jupyter-widgets/controls",
            "layout": "IPY_MODEL_8055eb421fcf4df4a1aa1858a1e06069"
          }
        },
        "66b68f139f694bbfbc3c4db133ca3d33": {
          "model_module": "@jupyter-widgets/controls",
          "model_name": "HTMLModel",
          "state": {
            "_view_name": "HTMLView",
            "style": "IPY_MODEL_eca2523b0cdd46e9bb7316427f3413f1",
            "_dom_classes": [],
            "description": "",
            "_model_name": "HTMLModel",
            "placeholder": "​",
            "_view_module": "@jupyter-widgets/controls",
            "_model_module_version": "1.5.0",
            "value": " 25000/0 [00:12&lt;00:00, 3411.78 examples/s]",
            "_view_count": null,
            "_view_module_version": "1.5.0",
            "description_tooltip": null,
            "_model_module": "@jupyter-widgets/controls",
            "layout": "IPY_MODEL_d0e1e60a4a76419bbe89a4b954cb5eab"
          }
        },
        "81fc3ace28844e6e8cf8f73c28fc8af0": {
          "model_module": "@jupyter-widgets/controls",
          "model_name": "ProgressStyleModel",
          "state": {
            "_view_name": "StyleView",
            "_model_name": "ProgressStyleModel",
            "description_width": "initial",
            "_view_module": "@jupyter-widgets/base",
            "_model_module_version": "1.5.0",
            "_view_count": null,
            "_view_module_version": "1.2.0",
            "bar_color": null,
            "_model_module": "@jupyter-widgets/controls"
          }
        },
        "8055eb421fcf4df4a1aa1858a1e06069": {
          "model_module": "@jupyter-widgets/base",
          "model_name": "LayoutModel",
          "state": {
            "_view_name": "LayoutView",
            "grid_template_rows": null,
            "right": null,
            "justify_content": null,
            "_view_module": "@jupyter-widgets/base",
            "overflow": null,
            "_model_module_version": "1.2.0",
            "_view_count": null,
            "flex_flow": null,
            "width": null,
            "min_width": null,
            "border": null,
            "align_items": null,
            "bottom": null,
            "_model_module": "@jupyter-widgets/base",
            "top": null,
            "grid_column": null,
            "overflow_y": null,
            "overflow_x": null,
            "grid_auto_flow": null,
            "grid_area": null,
            "grid_template_columns": null,
            "flex": null,
            "_model_name": "LayoutModel",
            "justify_items": null,
            "grid_row": null,
            "max_height": null,
            "align_content": null,
            "visibility": null,
            "align_self": null,
            "height": null,
            "min_height": null,
            "padding": null,
            "grid_auto_rows": null,
            "grid_gap": null,
            "max_width": null,
            "order": null,
            "_view_module_version": "1.2.0",
            "grid_template_areas": null,
            "object_position": null,
            "object_fit": null,
            "grid_auto_columns": null,
            "margin": null,
            "display": null,
            "left": null
          }
        },
        "eca2523b0cdd46e9bb7316427f3413f1": {
          "model_module": "@jupyter-widgets/controls",
          "model_name": "DescriptionStyleModel",
          "state": {
            "_view_name": "StyleView",
            "_model_name": "DescriptionStyleModel",
            "description_width": "",
            "_view_module": "@jupyter-widgets/base",
            "_model_module_version": "1.5.0",
            "_view_count": null,
            "_view_module_version": "1.2.0",
            "_model_module": "@jupyter-widgets/controls"
          }
        },
        "d0e1e60a4a76419bbe89a4b954cb5eab": {
          "model_module": "@jupyter-widgets/base",
          "model_name": "LayoutModel",
          "state": {
            "_view_name": "LayoutView",
            "grid_template_rows": null,
            "right": null,
            "justify_content": null,
            "_view_module": "@jupyter-widgets/base",
            "overflow": null,
            "_model_module_version": "1.2.0",
            "_view_count": null,
            "flex_flow": null,
            "width": null,
            "min_width": null,
            "border": null,
            "align_items": null,
            "bottom": null,
            "_model_module": "@jupyter-widgets/base",
            "top": null,
            "grid_column": null,
            "overflow_y": null,
            "overflow_x": null,
            "grid_auto_flow": null,
            "grid_area": null,
            "grid_template_columns": null,
            "flex": null,
            "_model_name": "LayoutModel",
            "justify_items": null,
            "grid_row": null,
            "max_height": null,
            "align_content": null,
            "visibility": null,
            "align_self": null,
            "height": null,
            "min_height": null,
            "padding": null,
            "grid_auto_rows": null,
            "grid_gap": null,
            "max_width": null,
            "order": null,
            "_view_module_version": "1.2.0",
            "grid_template_areas": null,
            "object_position": null,
            "object_fit": null,
            "grid_auto_columns": null,
            "margin": null,
            "display": null,
            "left": null
          }
        },
        "1bac6ee446da4694a3614241092b91f5": {
          "model_module": "@jupyter-widgets/controls",
          "model_name": "HBoxModel",
          "state": {
            "_view_name": "HBoxView",
            "_dom_classes": [],
            "_model_name": "HBoxModel",
            "_view_module": "@jupyter-widgets/controls",
            "_model_module_version": "1.5.0",
            "_view_count": null,
            "_view_module_version": "1.5.0",
            "box_style": "",
            "layout": "IPY_MODEL_a5d1dc3341e04d4ea3ec0e0a54615750",
            "_model_module": "@jupyter-widgets/controls",
            "children": [
              "IPY_MODEL_33626d1feba74f34a1a198aa55a2ce57",
              "IPY_MODEL_6adb2be5efc34c1c9f370c56d37ec486"
            ]
          }
        },
        "a5d1dc3341e04d4ea3ec0e0a54615750": {
          "model_module": "@jupyter-widgets/base",
          "model_name": "LayoutModel",
          "state": {
            "_view_name": "LayoutView",
            "grid_template_rows": null,
            "right": null,
            "justify_content": null,
            "_view_module": "@jupyter-widgets/base",
            "overflow": null,
            "_model_module_version": "1.2.0",
            "_view_count": null,
            "flex_flow": null,
            "width": null,
            "min_width": null,
            "border": null,
            "align_items": null,
            "bottom": null,
            "_model_module": "@jupyter-widgets/base",
            "top": null,
            "grid_column": null,
            "overflow_y": null,
            "overflow_x": null,
            "grid_auto_flow": null,
            "grid_area": null,
            "grid_template_columns": null,
            "flex": null,
            "_model_name": "LayoutModel",
            "justify_items": null,
            "grid_row": null,
            "max_height": null,
            "align_content": null,
            "visibility": null,
            "align_self": null,
            "height": null,
            "min_height": null,
            "padding": null,
            "grid_auto_rows": null,
            "grid_gap": null,
            "max_width": null,
            "order": null,
            "_view_module_version": "1.2.0",
            "grid_template_areas": null,
            "object_position": null,
            "object_fit": null,
            "grid_auto_columns": null,
            "margin": null,
            "display": null,
            "left": null
          }
        },
        "33626d1feba74f34a1a198aa55a2ce57": {
          "model_module": "@jupyter-widgets/controls",
          "model_name": "IntProgressModel",
          "state": {
            "_view_name": "ProgressView",
            "style": "IPY_MODEL_0154c9139987453388ba280b15e5dcd9",
            "_dom_classes": [],
            "description": " 70%",
            "_model_name": "IntProgressModel",
            "bar_style": "danger",
            "max": 25000,
            "_view_module": "@jupyter-widgets/controls",
            "_model_module_version": "1.5.0",
            "value": 17383,
            "_view_count": null,
            "_view_module_version": "1.5.0",
            "orientation": "horizontal",
            "min": 0,
            "description_tooltip": null,
            "_model_module": "@jupyter-widgets/controls",
            "layout": "IPY_MODEL_d1b3f889a64944b1931b7e8f4dfd417e"
          }
        },
        "6adb2be5efc34c1c9f370c56d37ec486": {
          "model_module": "@jupyter-widgets/controls",
          "model_name": "HTMLModel",
          "state": {
            "_view_name": "HTMLView",
            "style": "IPY_MODEL_10d899db061049299579a99133e2d4ad",
            "_dom_classes": [],
            "description": "",
            "_model_name": "HTMLModel",
            "placeholder": "​",
            "_view_module": "@jupyter-widgets/controls",
            "_model_module_version": "1.5.0",
            "value": " 17383/25000 [00:00&lt;00:00, 173823.12 examples/s]",
            "_view_count": null,
            "_view_module_version": "1.5.0",
            "description_tooltip": null,
            "_model_module": "@jupyter-widgets/controls",
            "layout": "IPY_MODEL_a309dce00c7c415d83155079c462d0a3"
          }
        },
        "0154c9139987453388ba280b15e5dcd9": {
          "model_module": "@jupyter-widgets/controls",
          "model_name": "ProgressStyleModel",
          "state": {
            "_view_name": "StyleView",
            "_model_name": "ProgressStyleModel",
            "description_width": "initial",
            "_view_module": "@jupyter-widgets/base",
            "_model_module_version": "1.5.0",
            "_view_count": null,
            "_view_module_version": "1.2.0",
            "bar_color": null,
            "_model_module": "@jupyter-widgets/controls"
          }
        },
        "d1b3f889a64944b1931b7e8f4dfd417e": {
          "model_module": "@jupyter-widgets/base",
          "model_name": "LayoutModel",
          "state": {
            "_view_name": "LayoutView",
            "grid_template_rows": null,
            "right": null,
            "justify_content": null,
            "_view_module": "@jupyter-widgets/base",
            "overflow": null,
            "_model_module_version": "1.2.0",
            "_view_count": null,
            "flex_flow": null,
            "width": null,
            "min_width": null,
            "border": null,
            "align_items": null,
            "bottom": null,
            "_model_module": "@jupyter-widgets/base",
            "top": null,
            "grid_column": null,
            "overflow_y": null,
            "overflow_x": null,
            "grid_auto_flow": null,
            "grid_area": null,
            "grid_template_columns": null,
            "flex": null,
            "_model_name": "LayoutModel",
            "justify_items": null,
            "grid_row": null,
            "max_height": null,
            "align_content": null,
            "visibility": null,
            "align_self": null,
            "height": null,
            "min_height": null,
            "padding": null,
            "grid_auto_rows": null,
            "grid_gap": null,
            "max_width": null,
            "order": null,
            "_view_module_version": "1.2.0",
            "grid_template_areas": null,
            "object_position": null,
            "object_fit": null,
            "grid_auto_columns": null,
            "margin": null,
            "display": null,
            "left": null
          }
        },
        "10d899db061049299579a99133e2d4ad": {
          "model_module": "@jupyter-widgets/controls",
          "model_name": "DescriptionStyleModel",
          "state": {
            "_view_name": "StyleView",
            "_model_name": "DescriptionStyleModel",
            "description_width": "",
            "_view_module": "@jupyter-widgets/base",
            "_model_module_version": "1.5.0",
            "_view_count": null,
            "_view_module_version": "1.2.0",
            "_model_module": "@jupyter-widgets/controls"
          }
        },
        "a309dce00c7c415d83155079c462d0a3": {
          "model_module": "@jupyter-widgets/base",
          "model_name": "LayoutModel",
          "state": {
            "_view_name": "LayoutView",
            "grid_template_rows": null,
            "right": null,
            "justify_content": null,
            "_view_module": "@jupyter-widgets/base",
            "overflow": null,
            "_model_module_version": "1.2.0",
            "_view_count": null,
            "flex_flow": null,
            "width": null,
            "min_width": null,
            "border": null,
            "align_items": null,
            "bottom": null,
            "_model_module": "@jupyter-widgets/base",
            "top": null,
            "grid_column": null,
            "overflow_y": null,
            "overflow_x": null,
            "grid_auto_flow": null,
            "grid_area": null,
            "grid_template_columns": null,
            "flex": null,
            "_model_name": "LayoutModel",
            "justify_items": null,
            "grid_row": null,
            "max_height": null,
            "align_content": null,
            "visibility": null,
            "align_self": null,
            "height": null,
            "min_height": null,
            "padding": null,
            "grid_auto_rows": null,
            "grid_gap": null,
            "max_width": null,
            "order": null,
            "_view_module_version": "1.2.0",
            "grid_template_areas": null,
            "object_position": null,
            "object_fit": null,
            "grid_auto_columns": null,
            "margin": null,
            "display": null,
            "left": null
          }
        },
        "1246e2eb9c5748f8b08db424032578e5": {
          "model_module": "@jupyter-widgets/controls",
          "model_name": "HBoxModel",
          "state": {
            "_view_name": "HBoxView",
            "_dom_classes": [],
            "_model_name": "HBoxModel",
            "_view_module": "@jupyter-widgets/controls",
            "_model_module_version": "1.5.0",
            "_view_count": null,
            "_view_module_version": "1.5.0",
            "box_style": "",
            "layout": "IPY_MODEL_4ce07c6cc95b40deb4691e491e396d36",
            "_model_module": "@jupyter-widgets/controls",
            "children": [
              "IPY_MODEL_f60e4d76870a48d2a5aec362162b35ae",
              "IPY_MODEL_a5c4a304c5ab4e9e92c4d95db9b0db17"
            ]
          }
        },
        "4ce07c6cc95b40deb4691e491e396d36": {
          "model_module": "@jupyter-widgets/base",
          "model_name": "LayoutModel",
          "state": {
            "_view_name": "LayoutView",
            "grid_template_rows": null,
            "right": null,
            "justify_content": null,
            "_view_module": "@jupyter-widgets/base",
            "overflow": null,
            "_model_module_version": "1.2.0",
            "_view_count": null,
            "flex_flow": null,
            "width": null,
            "min_width": null,
            "border": null,
            "align_items": null,
            "bottom": null,
            "_model_module": "@jupyter-widgets/base",
            "top": null,
            "grid_column": null,
            "overflow_y": null,
            "overflow_x": null,
            "grid_auto_flow": null,
            "grid_area": null,
            "grid_template_columns": null,
            "flex": null,
            "_model_name": "LayoutModel",
            "justify_items": null,
            "grid_row": null,
            "max_height": null,
            "align_content": null,
            "visibility": null,
            "align_self": null,
            "height": null,
            "min_height": null,
            "padding": null,
            "grid_auto_rows": null,
            "grid_gap": null,
            "max_width": null,
            "order": null,
            "_view_module_version": "1.2.0",
            "grid_template_areas": null,
            "object_position": null,
            "object_fit": null,
            "grid_auto_columns": null,
            "margin": null,
            "display": null,
            "left": null
          }
        },
        "f60e4d76870a48d2a5aec362162b35ae": {
          "model_module": "@jupyter-widgets/controls",
          "model_name": "IntProgressModel",
          "state": {
            "_view_name": "ProgressView",
            "style": "IPY_MODEL_9b46fdb7c50a46c9b566349ff58b67f2",
            "_dom_classes": [],
            "description": "",
            "_model_name": "IntProgressModel",
            "bar_style": "info",
            "max": 1,
            "_view_module": "@jupyter-widgets/controls",
            "_model_module_version": "1.5.0",
            "value": 1,
            "_view_count": null,
            "_view_module_version": "1.5.0",
            "orientation": "horizontal",
            "min": 0,
            "description_tooltip": null,
            "_model_module": "@jupyter-widgets/controls",
            "layout": "IPY_MODEL_d8bbaacbaaf74e168b9f6f5ef3e580a6"
          }
        },
        "a5c4a304c5ab4e9e92c4d95db9b0db17": {
          "model_module": "@jupyter-widgets/controls",
          "model_name": "HTMLModel",
          "state": {
            "_view_name": "HTMLView",
            "style": "IPY_MODEL_31b81628bd75465ea16c89d6cb3df724",
            "_dom_classes": [],
            "description": "",
            "_model_name": "HTMLModel",
            "placeholder": "​",
            "_view_module": "@jupyter-widgets/controls",
            "_model_module_version": "1.5.0",
            "value": " 25000/0 [00:12&lt;00:00, 3214.05 examples/s]",
            "_view_count": null,
            "_view_module_version": "1.5.0",
            "description_tooltip": null,
            "_model_module": "@jupyter-widgets/controls",
            "layout": "IPY_MODEL_412cfca0e10345d8a3d4fc8bd36f48a9"
          }
        },
        "9b46fdb7c50a46c9b566349ff58b67f2": {
          "model_module": "@jupyter-widgets/controls",
          "model_name": "ProgressStyleModel",
          "state": {
            "_view_name": "StyleView",
            "_model_name": "ProgressStyleModel",
            "description_width": "initial",
            "_view_module": "@jupyter-widgets/base",
            "_model_module_version": "1.5.0",
            "_view_count": null,
            "_view_module_version": "1.2.0",
            "bar_color": null,
            "_model_module": "@jupyter-widgets/controls"
          }
        },
        "d8bbaacbaaf74e168b9f6f5ef3e580a6": {
          "model_module": "@jupyter-widgets/base",
          "model_name": "LayoutModel",
          "state": {
            "_view_name": "LayoutView",
            "grid_template_rows": null,
            "right": null,
            "justify_content": null,
            "_view_module": "@jupyter-widgets/base",
            "overflow": null,
            "_model_module_version": "1.2.0",
            "_view_count": null,
            "flex_flow": null,
            "width": null,
            "min_width": null,
            "border": null,
            "align_items": null,
            "bottom": null,
            "_model_module": "@jupyter-widgets/base",
            "top": null,
            "grid_column": null,
            "overflow_y": null,
            "overflow_x": null,
            "grid_auto_flow": null,
            "grid_area": null,
            "grid_template_columns": null,
            "flex": null,
            "_model_name": "LayoutModel",
            "justify_items": null,
            "grid_row": null,
            "max_height": null,
            "align_content": null,
            "visibility": null,
            "align_self": null,
            "height": null,
            "min_height": null,
            "padding": null,
            "grid_auto_rows": null,
            "grid_gap": null,
            "max_width": null,
            "order": null,
            "_view_module_version": "1.2.0",
            "grid_template_areas": null,
            "object_position": null,
            "object_fit": null,
            "grid_auto_columns": null,
            "margin": null,
            "display": null,
            "left": null
          }
        },
        "31b81628bd75465ea16c89d6cb3df724": {
          "model_module": "@jupyter-widgets/controls",
          "model_name": "DescriptionStyleModel",
          "state": {
            "_view_name": "StyleView",
            "_model_name": "DescriptionStyleModel",
            "description_width": "",
            "_view_module": "@jupyter-widgets/base",
            "_model_module_version": "1.5.0",
            "_view_count": null,
            "_view_module_version": "1.2.0",
            "_model_module": "@jupyter-widgets/controls"
          }
        },
        "412cfca0e10345d8a3d4fc8bd36f48a9": {
          "model_module": "@jupyter-widgets/base",
          "model_name": "LayoutModel",
          "state": {
            "_view_name": "LayoutView",
            "grid_template_rows": null,
            "right": null,
            "justify_content": null,
            "_view_module": "@jupyter-widgets/base",
            "overflow": null,
            "_model_module_version": "1.2.0",
            "_view_count": null,
            "flex_flow": null,
            "width": null,
            "min_width": null,
            "border": null,
            "align_items": null,
            "bottom": null,
            "_model_module": "@jupyter-widgets/base",
            "top": null,
            "grid_column": null,
            "overflow_y": null,
            "overflow_x": null,
            "grid_auto_flow": null,
            "grid_area": null,
            "grid_template_columns": null,
            "flex": null,
            "_model_name": "LayoutModel",
            "justify_items": null,
            "grid_row": null,
            "max_height": null,
            "align_content": null,
            "visibility": null,
            "align_self": null,
            "height": null,
            "min_height": null,
            "padding": null,
            "grid_auto_rows": null,
            "grid_gap": null,
            "max_width": null,
            "order": null,
            "_view_module_version": "1.2.0",
            "grid_template_areas": null,
            "object_position": null,
            "object_fit": null,
            "grid_auto_columns": null,
            "margin": null,
            "display": null,
            "left": null
          }
        },
        "c9463c68cddb4740906fbf5cdee02892": {
          "model_module": "@jupyter-widgets/controls",
          "model_name": "HBoxModel",
          "state": {
            "_view_name": "HBoxView",
            "_dom_classes": [],
            "_model_name": "HBoxModel",
            "_view_module": "@jupyter-widgets/controls",
            "_model_module_version": "1.5.0",
            "_view_count": null,
            "_view_module_version": "1.5.0",
            "box_style": "",
            "layout": "IPY_MODEL_f9acb4b859da4c3f8265b80e7e90147b",
            "_model_module": "@jupyter-widgets/controls",
            "children": [
              "IPY_MODEL_72c6cb0a1c5b4639b950724100766838",
              "IPY_MODEL_f9e5dd0540574db8b4f9e068c8ab1b2f"
            ]
          }
        },
        "f9acb4b859da4c3f8265b80e7e90147b": {
          "model_module": "@jupyter-widgets/base",
          "model_name": "LayoutModel",
          "state": {
            "_view_name": "LayoutView",
            "grid_template_rows": null,
            "right": null,
            "justify_content": null,
            "_view_module": "@jupyter-widgets/base",
            "overflow": null,
            "_model_module_version": "1.2.0",
            "_view_count": null,
            "flex_flow": null,
            "width": null,
            "min_width": null,
            "border": null,
            "align_items": null,
            "bottom": null,
            "_model_module": "@jupyter-widgets/base",
            "top": null,
            "grid_column": null,
            "overflow_y": null,
            "overflow_x": null,
            "grid_auto_flow": null,
            "grid_area": null,
            "grid_template_columns": null,
            "flex": null,
            "_model_name": "LayoutModel",
            "justify_items": null,
            "grid_row": null,
            "max_height": null,
            "align_content": null,
            "visibility": null,
            "align_self": null,
            "height": null,
            "min_height": null,
            "padding": null,
            "grid_auto_rows": null,
            "grid_gap": null,
            "max_width": null,
            "order": null,
            "_view_module_version": "1.2.0",
            "grid_template_areas": null,
            "object_position": null,
            "object_fit": null,
            "grid_auto_columns": null,
            "margin": null,
            "display": null,
            "left": null
          }
        },
        "72c6cb0a1c5b4639b950724100766838": {
          "model_module": "@jupyter-widgets/controls",
          "model_name": "IntProgressModel",
          "state": {
            "_view_name": "ProgressView",
            "style": "IPY_MODEL_60faede02bfb4567a7e0532ac05a1ffb",
            "_dom_classes": [],
            "description": " 42%",
            "_model_name": "IntProgressModel",
            "bar_style": "danger",
            "max": 25000,
            "_view_module": "@jupyter-widgets/controls",
            "_model_module_version": "1.5.0",
            "value": 10512,
            "_view_count": null,
            "_view_module_version": "1.5.0",
            "orientation": "horizontal",
            "min": 0,
            "description_tooltip": null,
            "_model_module": "@jupyter-widgets/controls",
            "layout": "IPY_MODEL_e4f2e4a038454c9fbcadb2908c9eaea3"
          }
        },
        "f9e5dd0540574db8b4f9e068c8ab1b2f": {
          "model_module": "@jupyter-widgets/controls",
          "model_name": "HTMLModel",
          "state": {
            "_view_name": "HTMLView",
            "style": "IPY_MODEL_c7127b4c92f3444ea19f481af6c22327",
            "_dom_classes": [],
            "description": "",
            "_model_name": "HTMLModel",
            "placeholder": "​",
            "_view_module": "@jupyter-widgets/controls",
            "_model_module_version": "1.5.0",
            "value": " 10512/25000 [00:00&lt;00:00, 105113.83 examples/s]",
            "_view_count": null,
            "_view_module_version": "1.5.0",
            "description_tooltip": null,
            "_model_module": "@jupyter-widgets/controls",
            "layout": "IPY_MODEL_47b1a14a5b304dd2a1e6a70b83302e24"
          }
        },
        "60faede02bfb4567a7e0532ac05a1ffb": {
          "model_module": "@jupyter-widgets/controls",
          "model_name": "ProgressStyleModel",
          "state": {
            "_view_name": "StyleView",
            "_model_name": "ProgressStyleModel",
            "description_width": "initial",
            "_view_module": "@jupyter-widgets/base",
            "_model_module_version": "1.5.0",
            "_view_count": null,
            "_view_module_version": "1.2.0",
            "bar_color": null,
            "_model_module": "@jupyter-widgets/controls"
          }
        },
        "e4f2e4a038454c9fbcadb2908c9eaea3": {
          "model_module": "@jupyter-widgets/base",
          "model_name": "LayoutModel",
          "state": {
            "_view_name": "LayoutView",
            "grid_template_rows": null,
            "right": null,
            "justify_content": null,
            "_view_module": "@jupyter-widgets/base",
            "overflow": null,
            "_model_module_version": "1.2.0",
            "_view_count": null,
            "flex_flow": null,
            "width": null,
            "min_width": null,
            "border": null,
            "align_items": null,
            "bottom": null,
            "_model_module": "@jupyter-widgets/base",
            "top": null,
            "grid_column": null,
            "overflow_y": null,
            "overflow_x": null,
            "grid_auto_flow": null,
            "grid_area": null,
            "grid_template_columns": null,
            "flex": null,
            "_model_name": "LayoutModel",
            "justify_items": null,
            "grid_row": null,
            "max_height": null,
            "align_content": null,
            "visibility": null,
            "align_self": null,
            "height": null,
            "min_height": null,
            "padding": null,
            "grid_auto_rows": null,
            "grid_gap": null,
            "max_width": null,
            "order": null,
            "_view_module_version": "1.2.0",
            "grid_template_areas": null,
            "object_position": null,
            "object_fit": null,
            "grid_auto_columns": null,
            "margin": null,
            "display": null,
            "left": null
          }
        },
        "c7127b4c92f3444ea19f481af6c22327": {
          "model_module": "@jupyter-widgets/controls",
          "model_name": "DescriptionStyleModel",
          "state": {
            "_view_name": "StyleView",
            "_model_name": "DescriptionStyleModel",
            "description_width": "",
            "_view_module": "@jupyter-widgets/base",
            "_model_module_version": "1.5.0",
            "_view_count": null,
            "_view_module_version": "1.2.0",
            "_model_module": "@jupyter-widgets/controls"
          }
        },
        "47b1a14a5b304dd2a1e6a70b83302e24": {
          "model_module": "@jupyter-widgets/base",
          "model_name": "LayoutModel",
          "state": {
            "_view_name": "LayoutView",
            "grid_template_rows": null,
            "right": null,
            "justify_content": null,
            "_view_module": "@jupyter-widgets/base",
            "overflow": null,
            "_model_module_version": "1.2.0",
            "_view_count": null,
            "flex_flow": null,
            "width": null,
            "min_width": null,
            "border": null,
            "align_items": null,
            "bottom": null,
            "_model_module": "@jupyter-widgets/base",
            "top": null,
            "grid_column": null,
            "overflow_y": null,
            "overflow_x": null,
            "grid_auto_flow": null,
            "grid_area": null,
            "grid_template_columns": null,
            "flex": null,
            "_model_name": "LayoutModel",
            "justify_items": null,
            "grid_row": null,
            "max_height": null,
            "align_content": null,
            "visibility": null,
            "align_self": null,
            "height": null,
            "min_height": null,
            "padding": null,
            "grid_auto_rows": null,
            "grid_gap": null,
            "max_width": null,
            "order": null,
            "_view_module_version": "1.2.0",
            "grid_template_areas": null,
            "object_position": null,
            "object_fit": null,
            "grid_auto_columns": null,
            "margin": null,
            "display": null,
            "left": null
          }
        },
        "080de7733ae74a9786c80e60251a6a74": {
          "model_module": "@jupyter-widgets/controls",
          "model_name": "HBoxModel",
          "state": {
            "_view_name": "HBoxView",
            "_dom_classes": [],
            "_model_name": "HBoxModel",
            "_view_module": "@jupyter-widgets/controls",
            "_model_module_version": "1.5.0",
            "_view_count": null,
            "_view_module_version": "1.5.0",
            "box_style": "",
            "layout": "IPY_MODEL_ac8cf220a42549938be0264d14c83973",
            "_model_module": "@jupyter-widgets/controls",
            "children": [
              "IPY_MODEL_669d62ba4b7a4fcdb98eb10b2e871a70",
              "IPY_MODEL_c27d2369bc624a98aa5cb047d47ebd92"
            ]
          }
        },
        "ac8cf220a42549938be0264d14c83973": {
          "model_module": "@jupyter-widgets/base",
          "model_name": "LayoutModel",
          "state": {
            "_view_name": "LayoutView",
            "grid_template_rows": null,
            "right": null,
            "justify_content": null,
            "_view_module": "@jupyter-widgets/base",
            "overflow": null,
            "_model_module_version": "1.2.0",
            "_view_count": null,
            "flex_flow": null,
            "width": null,
            "min_width": null,
            "border": null,
            "align_items": null,
            "bottom": null,
            "_model_module": "@jupyter-widgets/base",
            "top": null,
            "grid_column": null,
            "overflow_y": null,
            "overflow_x": null,
            "grid_auto_flow": null,
            "grid_area": null,
            "grid_template_columns": null,
            "flex": null,
            "_model_name": "LayoutModel",
            "justify_items": null,
            "grid_row": null,
            "max_height": null,
            "align_content": null,
            "visibility": null,
            "align_self": null,
            "height": null,
            "min_height": null,
            "padding": null,
            "grid_auto_rows": null,
            "grid_gap": null,
            "max_width": null,
            "order": null,
            "_view_module_version": "1.2.0",
            "grid_template_areas": null,
            "object_position": null,
            "object_fit": null,
            "grid_auto_columns": null,
            "margin": null,
            "display": null,
            "left": null
          }
        },
        "669d62ba4b7a4fcdb98eb10b2e871a70": {
          "model_module": "@jupyter-widgets/controls",
          "model_name": "IntProgressModel",
          "state": {
            "_view_name": "ProgressView",
            "style": "IPY_MODEL_80b01774800c447a8e33f5b80ab07796",
            "_dom_classes": [],
            "description": "",
            "_model_name": "IntProgressModel",
            "bar_style": "info",
            "max": 1,
            "_view_module": "@jupyter-widgets/controls",
            "_model_module_version": "1.5.0",
            "value": 1,
            "_view_count": null,
            "_view_module_version": "1.5.0",
            "orientation": "horizontal",
            "min": 0,
            "description_tooltip": null,
            "_model_module": "@jupyter-widgets/controls",
            "layout": "IPY_MODEL_1f767ef676e0466ebc6de3ceb6af6933"
          }
        },
        "c27d2369bc624a98aa5cb047d47ebd92": {
          "model_module": "@jupyter-widgets/controls",
          "model_name": "HTMLModel",
          "state": {
            "_view_name": "HTMLView",
            "style": "IPY_MODEL_d1023b26b99b4f1b82a4cc8dc85af398",
            "_dom_classes": [],
            "description": "",
            "_model_name": "HTMLModel",
            "placeholder": "​",
            "_view_module": "@jupyter-widgets/controls",
            "_model_module_version": "1.5.0",
            "value": " 50000/0 [00:18&lt;00:00, 3472.22 examples/s]",
            "_view_count": null,
            "_view_module_version": "1.5.0",
            "description_tooltip": null,
            "_model_module": "@jupyter-widgets/controls",
            "layout": "IPY_MODEL_ee47020e29d54f6892486b08262e20fd"
          }
        },
        "80b01774800c447a8e33f5b80ab07796": {
          "model_module": "@jupyter-widgets/controls",
          "model_name": "ProgressStyleModel",
          "state": {
            "_view_name": "StyleView",
            "_model_name": "ProgressStyleModel",
            "description_width": "initial",
            "_view_module": "@jupyter-widgets/base",
            "_model_module_version": "1.5.0",
            "_view_count": null,
            "_view_module_version": "1.2.0",
            "bar_color": null,
            "_model_module": "@jupyter-widgets/controls"
          }
        },
        "1f767ef676e0466ebc6de3ceb6af6933": {
          "model_module": "@jupyter-widgets/base",
          "model_name": "LayoutModel",
          "state": {
            "_view_name": "LayoutView",
            "grid_template_rows": null,
            "right": null,
            "justify_content": null,
            "_view_module": "@jupyter-widgets/base",
            "overflow": null,
            "_model_module_version": "1.2.0",
            "_view_count": null,
            "flex_flow": null,
            "width": null,
            "min_width": null,
            "border": null,
            "align_items": null,
            "bottom": null,
            "_model_module": "@jupyter-widgets/base",
            "top": null,
            "grid_column": null,
            "overflow_y": null,
            "overflow_x": null,
            "grid_auto_flow": null,
            "grid_area": null,
            "grid_template_columns": null,
            "flex": null,
            "_model_name": "LayoutModel",
            "justify_items": null,
            "grid_row": null,
            "max_height": null,
            "align_content": null,
            "visibility": null,
            "align_self": null,
            "height": null,
            "min_height": null,
            "padding": null,
            "grid_auto_rows": null,
            "grid_gap": null,
            "max_width": null,
            "order": null,
            "_view_module_version": "1.2.0",
            "grid_template_areas": null,
            "object_position": null,
            "object_fit": null,
            "grid_auto_columns": null,
            "margin": null,
            "display": null,
            "left": null
          }
        },
        "d1023b26b99b4f1b82a4cc8dc85af398": {
          "model_module": "@jupyter-widgets/controls",
          "model_name": "DescriptionStyleModel",
          "state": {
            "_view_name": "StyleView",
            "_model_name": "DescriptionStyleModel",
            "description_width": "",
            "_view_module": "@jupyter-widgets/base",
            "_model_module_version": "1.5.0",
            "_view_count": null,
            "_view_module_version": "1.2.0",
            "_model_module": "@jupyter-widgets/controls"
          }
        },
        "ee47020e29d54f6892486b08262e20fd": {
          "model_module": "@jupyter-widgets/base",
          "model_name": "LayoutModel",
          "state": {
            "_view_name": "LayoutView",
            "grid_template_rows": null,
            "right": null,
            "justify_content": null,
            "_view_module": "@jupyter-widgets/base",
            "overflow": null,
            "_model_module_version": "1.2.0",
            "_view_count": null,
            "flex_flow": null,
            "width": null,
            "min_width": null,
            "border": null,
            "align_items": null,
            "bottom": null,
            "_model_module": "@jupyter-widgets/base",
            "top": null,
            "grid_column": null,
            "overflow_y": null,
            "overflow_x": null,
            "grid_auto_flow": null,
            "grid_area": null,
            "grid_template_columns": null,
            "flex": null,
            "_model_name": "LayoutModel",
            "justify_items": null,
            "grid_row": null,
            "max_height": null,
            "align_content": null,
            "visibility": null,
            "align_self": null,
            "height": null,
            "min_height": null,
            "padding": null,
            "grid_auto_rows": null,
            "grid_gap": null,
            "max_width": null,
            "order": null,
            "_view_module_version": "1.2.0",
            "grid_template_areas": null,
            "object_position": null,
            "object_fit": null,
            "grid_auto_columns": null,
            "margin": null,
            "display": null,
            "left": null
          }
        },
        "b0ae5dd86bc7485c8e81af73470e0007": {
          "model_module": "@jupyter-widgets/controls",
          "model_name": "HBoxModel",
          "state": {
            "_view_name": "HBoxView",
            "_dom_classes": [],
            "_model_name": "HBoxModel",
            "_view_module": "@jupyter-widgets/controls",
            "_model_module_version": "1.5.0",
            "_view_count": null,
            "_view_module_version": "1.5.0",
            "box_style": "",
            "layout": "IPY_MODEL_d15b0b50c3fe4259bac493931bf83967",
            "_model_module": "@jupyter-widgets/controls",
            "children": [
              "IPY_MODEL_aa1f64cbedab485683463a08e7b4f2db",
              "IPY_MODEL_1365a0c0d4f34059be250710309a187f"
            ]
          }
        },
        "d15b0b50c3fe4259bac493931bf83967": {
          "model_module": "@jupyter-widgets/base",
          "model_name": "LayoutModel",
          "state": {
            "_view_name": "LayoutView",
            "grid_template_rows": null,
            "right": null,
            "justify_content": null,
            "_view_module": "@jupyter-widgets/base",
            "overflow": null,
            "_model_module_version": "1.2.0",
            "_view_count": null,
            "flex_flow": null,
            "width": null,
            "min_width": null,
            "border": null,
            "align_items": null,
            "bottom": null,
            "_model_module": "@jupyter-widgets/base",
            "top": null,
            "grid_column": null,
            "overflow_y": null,
            "overflow_x": null,
            "grid_auto_flow": null,
            "grid_area": null,
            "grid_template_columns": null,
            "flex": null,
            "_model_name": "LayoutModel",
            "justify_items": null,
            "grid_row": null,
            "max_height": null,
            "align_content": null,
            "visibility": null,
            "align_self": null,
            "height": null,
            "min_height": null,
            "padding": null,
            "grid_auto_rows": null,
            "grid_gap": null,
            "max_width": null,
            "order": null,
            "_view_module_version": "1.2.0",
            "grid_template_areas": null,
            "object_position": null,
            "object_fit": null,
            "grid_auto_columns": null,
            "margin": null,
            "display": null,
            "left": null
          }
        },
        "aa1f64cbedab485683463a08e7b4f2db": {
          "model_module": "@jupyter-widgets/controls",
          "model_name": "IntProgressModel",
          "state": {
            "_view_name": "ProgressView",
            "style": "IPY_MODEL_5f2987010430473abdebd2f6dbacc30f",
            "_dom_classes": [],
            "description": " 85%",
            "_model_name": "IntProgressModel",
            "bar_style": "danger",
            "max": 50000,
            "_view_module": "@jupyter-widgets/controls",
            "_model_module_version": "1.5.0",
            "value": 42296,
            "_view_count": null,
            "_view_module_version": "1.5.0",
            "orientation": "horizontal",
            "min": 0,
            "description_tooltip": null,
            "_model_module": "@jupyter-widgets/controls",
            "layout": "IPY_MODEL_4a84ce6e1e9b4aceb181f925f4c47a77"
          }
        },
        "1365a0c0d4f34059be250710309a187f": {
          "model_module": "@jupyter-widgets/controls",
          "model_name": "HTMLModel",
          "state": {
            "_view_name": "HTMLView",
            "style": "IPY_MODEL_fe8b6b4f4dd24d3b8600a29fcfb9828f",
            "_dom_classes": [],
            "description": "",
            "_model_name": "HTMLModel",
            "placeholder": "​",
            "_view_module": "@jupyter-widgets/controls",
            "_model_module_version": "1.5.0",
            "value": " 42296/50000 [00:07&lt;00:00, 40455.00 examples/s]",
            "_view_count": null,
            "_view_module_version": "1.5.0",
            "description_tooltip": null,
            "_model_module": "@jupyter-widgets/controls",
            "layout": "IPY_MODEL_aca0401ffd254303afa593bbcf3d1b0a"
          }
        },
        "5f2987010430473abdebd2f6dbacc30f": {
          "model_module": "@jupyter-widgets/controls",
          "model_name": "ProgressStyleModel",
          "state": {
            "_view_name": "StyleView",
            "_model_name": "ProgressStyleModel",
            "description_width": "initial",
            "_view_module": "@jupyter-widgets/base",
            "_model_module_version": "1.5.0",
            "_view_count": null,
            "_view_module_version": "1.2.0",
            "bar_color": null,
            "_model_module": "@jupyter-widgets/controls"
          }
        },
        "4a84ce6e1e9b4aceb181f925f4c47a77": {
          "model_module": "@jupyter-widgets/base",
          "model_name": "LayoutModel",
          "state": {
            "_view_name": "LayoutView",
            "grid_template_rows": null,
            "right": null,
            "justify_content": null,
            "_view_module": "@jupyter-widgets/base",
            "overflow": null,
            "_model_module_version": "1.2.0",
            "_view_count": null,
            "flex_flow": null,
            "width": null,
            "min_width": null,
            "border": null,
            "align_items": null,
            "bottom": null,
            "_model_module": "@jupyter-widgets/base",
            "top": null,
            "grid_column": null,
            "overflow_y": null,
            "overflow_x": null,
            "grid_auto_flow": null,
            "grid_area": null,
            "grid_template_columns": null,
            "flex": null,
            "_model_name": "LayoutModel",
            "justify_items": null,
            "grid_row": null,
            "max_height": null,
            "align_content": null,
            "visibility": null,
            "align_self": null,
            "height": null,
            "min_height": null,
            "padding": null,
            "grid_auto_rows": null,
            "grid_gap": null,
            "max_width": null,
            "order": null,
            "_view_module_version": "1.2.0",
            "grid_template_areas": null,
            "object_position": null,
            "object_fit": null,
            "grid_auto_columns": null,
            "margin": null,
            "display": null,
            "left": null
          }
        },
        "fe8b6b4f4dd24d3b8600a29fcfb9828f": {
          "model_module": "@jupyter-widgets/controls",
          "model_name": "DescriptionStyleModel",
          "state": {
            "_view_name": "StyleView",
            "_model_name": "DescriptionStyleModel",
            "description_width": "",
            "_view_module": "@jupyter-widgets/base",
            "_model_module_version": "1.5.0",
            "_view_count": null,
            "_view_module_version": "1.2.0",
            "_model_module": "@jupyter-widgets/controls"
          }
        },
        "aca0401ffd254303afa593bbcf3d1b0a": {
          "model_module": "@jupyter-widgets/base",
          "model_name": "LayoutModel",
          "state": {
            "_view_name": "LayoutView",
            "grid_template_rows": null,
            "right": null,
            "justify_content": null,
            "_view_module": "@jupyter-widgets/base",
            "overflow": null,
            "_model_module_version": "1.2.0",
            "_view_count": null,
            "flex_flow": null,
            "width": null,
            "min_width": null,
            "border": null,
            "align_items": null,
            "bottom": null,
            "_model_module": "@jupyter-widgets/base",
            "top": null,
            "grid_column": null,
            "overflow_y": null,
            "overflow_x": null,
            "grid_auto_flow": null,
            "grid_area": null,
            "grid_template_columns": null,
            "flex": null,
            "_model_name": "LayoutModel",
            "justify_items": null,
            "grid_row": null,
            "max_height": null,
            "align_content": null,
            "visibility": null,
            "align_self": null,
            "height": null,
            "min_height": null,
            "padding": null,
            "grid_auto_rows": null,
            "grid_gap": null,
            "max_width": null,
            "order": null,
            "_view_module_version": "1.2.0",
            "grid_template_areas": null,
            "object_position": null,
            "object_fit": null,
            "grid_auto_columns": null,
            "margin": null,
            "display": null,
            "left": null
          }
        }
      }
    }
  },
  "cells": [
    {
      "cell_type": "code",
      "metadata": {
        "colab_type": "code",
        "id": "P-AhVYeBWgQ3",
        "colab": {
          "base_uri": "https://localhost:8080/",
          "height": 34
        },
        "outputId": "fa09bd60-9762-4e47-91e4-cffa59c4eb2f"
      },
      "source": [
        "import tensorflow as tf\n",
        "print(tf.__version__)\n",
        "\n",
        "# !pip install -q tensorflow-datasets"
      ],
      "execution_count": 1,
      "outputs": [
        {
          "output_type": "stream",
          "text": [
            "2.2.0-rc2\n"
          ],
          "name": "stdout"
        }
      ]
    },
    {
      "cell_type": "code",
      "metadata": {
        "colab_type": "code",
        "id": "_IoM4VFxWpMR",
        "colab": {
          "base_uri": "https://localhost:8080/",
          "height": 330,
          "referenced_widgets": [
            "730f40fe363b47ceb6a2f37d5994b246",
            "8d0212139d6a4866a253d385fd418369",
            "5d0c5984e24a4ac1b5556a8696a6132b",
            "0620f27512484668b16c37e8ac77935c",
            "4b850e0ba1a7481fb8d9aac700f59f57",
            "a99224853e0046edb5593a94d13e6be3",
            "80e9392515594f94884a02944559c6d0",
            "be1f7197cfdc45a39b3fecb000b3d088",
            "ced68c0cb6cd4e01ae9e1385db5f70a1",
            "591ab9639dbd40c6a08290ae60245a7d",
            "88fb46d0c7ac4ec8acb315e4669b9424",
            "53e88b82ec4c4bda87f1dde37dad5490",
            "920f9ce0129944608e0d8fd6f1a91d23",
            "d2ff5db341d5495cad11ffb68e0052a2",
            "83b759844b954e96b67eb7973aa34f2c",
            "021f1776b9f34d70b0bafd3aef469560",
            "a09d6ea9015f4c97bb31998e604198bb",
            "861ca568da284dbbbdcdbd861dc3bd62",
            "83212000160049d19c17f364c1bb6dad",
            "66b68f139f694bbfbc3c4db133ca3d33",
            "81fc3ace28844e6e8cf8f73c28fc8af0",
            "8055eb421fcf4df4a1aa1858a1e06069",
            "eca2523b0cdd46e9bb7316427f3413f1",
            "d0e1e60a4a76419bbe89a4b954cb5eab",
            "1bac6ee446da4694a3614241092b91f5",
            "a5d1dc3341e04d4ea3ec0e0a54615750",
            "33626d1feba74f34a1a198aa55a2ce57",
            "6adb2be5efc34c1c9f370c56d37ec486",
            "0154c9139987453388ba280b15e5dcd9",
            "d1b3f889a64944b1931b7e8f4dfd417e",
            "10d899db061049299579a99133e2d4ad",
            "a309dce00c7c415d83155079c462d0a3",
            "1246e2eb9c5748f8b08db424032578e5",
            "4ce07c6cc95b40deb4691e491e396d36",
            "f60e4d76870a48d2a5aec362162b35ae",
            "a5c4a304c5ab4e9e92c4d95db9b0db17",
            "9b46fdb7c50a46c9b566349ff58b67f2",
            "d8bbaacbaaf74e168b9f6f5ef3e580a6",
            "31b81628bd75465ea16c89d6cb3df724",
            "412cfca0e10345d8a3d4fc8bd36f48a9",
            "c9463c68cddb4740906fbf5cdee02892",
            "f9acb4b859da4c3f8265b80e7e90147b",
            "72c6cb0a1c5b4639b950724100766838",
            "f9e5dd0540574db8b4f9e068c8ab1b2f",
            "60faede02bfb4567a7e0532ac05a1ffb",
            "e4f2e4a038454c9fbcadb2908c9eaea3",
            "c7127b4c92f3444ea19f481af6c22327",
            "47b1a14a5b304dd2a1e6a70b83302e24",
            "080de7733ae74a9786c80e60251a6a74",
            "ac8cf220a42549938be0264d14c83973",
            "669d62ba4b7a4fcdb98eb10b2e871a70",
            "c27d2369bc624a98aa5cb047d47ebd92",
            "80b01774800c447a8e33f5b80ab07796",
            "1f767ef676e0466ebc6de3ceb6af6933",
            "d1023b26b99b4f1b82a4cc8dc85af398",
            "ee47020e29d54f6892486b08262e20fd",
            "b0ae5dd86bc7485c8e81af73470e0007",
            "d15b0b50c3fe4259bac493931bf83967",
            "aa1f64cbedab485683463a08e7b4f2db",
            "1365a0c0d4f34059be250710309a187f",
            "5f2987010430473abdebd2f6dbacc30f",
            "4a84ce6e1e9b4aceb181f925f4c47a77",
            "fe8b6b4f4dd24d3b8600a29fcfb9828f",
            "aca0401ffd254303afa593bbcf3d1b0a"
          ]
        },
        "outputId": "64511051-48e7-46ac-bf58-a5ce763afd22"
      },
      "source": [
        "import tensorflow_datasets as tfds\n",
        "imdb, info = tfds.load(\"imdb_reviews\", with_info=True, as_supervised=True)\n"
      ],
      "execution_count": 2,
      "outputs": [
        {
          "output_type": "stream",
          "text": [
            "\u001b[1mDownloading and preparing dataset imdb_reviews/plain_text/1.0.0 (download: 80.23 MiB, generated: Unknown size, total: 80.23 MiB) to /root/tensorflow_datasets/imdb_reviews/plain_text/1.0.0...\u001b[0m\n"
          ],
          "name": "stdout"
        },
        {
          "output_type": "display_data",
          "data": {
            "application/vnd.jupyter.widget-view+json": {
              "model_id": "730f40fe363b47ceb6a2f37d5994b246",
              "version_minor": 0,
              "version_major": 2
            },
            "text/plain": [
              "HBox(children=(IntProgress(value=1, bar_style='info', description='Dl Completed...', max=1, style=ProgressStyl…"
            ]
          },
          "metadata": {
            "tags": []
          }
        },
        {
          "output_type": "display_data",
          "data": {
            "application/vnd.jupyter.widget-view+json": {
              "model_id": "ced68c0cb6cd4e01ae9e1385db5f70a1",
              "version_minor": 0,
              "version_major": 2
            },
            "text/plain": [
              "HBox(children=(IntProgress(value=1, bar_style='info', description='Dl Size...', max=1, style=ProgressStyle(des…"
            ]
          },
          "metadata": {
            "tags": []
          }
        },
        {
          "output_type": "stream",
          "text": [
            "\n",
            "\n",
            "\n",
            "\n"
          ],
          "name": "stdout"
        },
        {
          "output_type": "display_data",
          "data": {
            "application/vnd.jupyter.widget-view+json": {
              "model_id": "a09d6ea9015f4c97bb31998e604198bb",
              "version_minor": 0,
              "version_major": 2
            },
            "text/plain": [
              "HBox(children=(IntProgress(value=1, bar_style='info', max=1), HTML(value='')))"
            ]
          },
          "metadata": {
            "tags": []
          }
        },
        {
          "output_type": "stream",
          "text": [
            "\rShuffling and writing examples to /root/tensorflow_datasets/imdb_reviews/plain_text/1.0.0.incomplete5SEPRX/imdb_reviews-train.tfrecord\n"
          ],
          "name": "stdout"
        },
        {
          "output_type": "display_data",
          "data": {
            "application/vnd.jupyter.widget-view+json": {
              "model_id": "1bac6ee446da4694a3614241092b91f5",
              "version_minor": 0,
              "version_major": 2
            },
            "text/plain": [
              "HBox(children=(IntProgress(value=0, max=25000), HTML(value='')))"
            ]
          },
          "metadata": {
            "tags": []
          }
        },
        {
          "output_type": "stream",
          "text": [
            "\r"
          ],
          "name": "stdout"
        },
        {
          "output_type": "display_data",
          "data": {
            "application/vnd.jupyter.widget-view+json": {
              "model_id": "1246e2eb9c5748f8b08db424032578e5",
              "version_minor": 0,
              "version_major": 2
            },
            "text/plain": [
              "HBox(children=(IntProgress(value=1, bar_style='info', max=1), HTML(value='')))"
            ]
          },
          "metadata": {
            "tags": []
          }
        },
        {
          "output_type": "stream",
          "text": [
            "\rShuffling and writing examples to /root/tensorflow_datasets/imdb_reviews/plain_text/1.0.0.incomplete5SEPRX/imdb_reviews-test.tfrecord\n"
          ],
          "name": "stdout"
        },
        {
          "output_type": "display_data",
          "data": {
            "application/vnd.jupyter.widget-view+json": {
              "model_id": "c9463c68cddb4740906fbf5cdee02892",
              "version_minor": 0,
              "version_major": 2
            },
            "text/plain": [
              "HBox(children=(IntProgress(value=0, max=25000), HTML(value='')))"
            ]
          },
          "metadata": {
            "tags": []
          }
        },
        {
          "output_type": "stream",
          "text": [
            "\r"
          ],
          "name": "stdout"
        },
        {
          "output_type": "display_data",
          "data": {
            "application/vnd.jupyter.widget-view+json": {
              "model_id": "080de7733ae74a9786c80e60251a6a74",
              "version_minor": 0,
              "version_major": 2
            },
            "text/plain": [
              "HBox(children=(IntProgress(value=1, bar_style='info', max=1), HTML(value='')))"
            ]
          },
          "metadata": {
            "tags": []
          }
        },
        {
          "output_type": "stream",
          "text": [
            "\rShuffling and writing examples to /root/tensorflow_datasets/imdb_reviews/plain_text/1.0.0.incomplete5SEPRX/imdb_reviews-unsupervised.tfrecord\n"
          ],
          "name": "stdout"
        },
        {
          "output_type": "display_data",
          "data": {
            "application/vnd.jupyter.widget-view+json": {
              "model_id": "b0ae5dd86bc7485c8e81af73470e0007",
              "version_minor": 0,
              "version_major": 2
            },
            "text/plain": [
              "HBox(children=(IntProgress(value=0, max=50000), HTML(value='')))"
            ]
          },
          "metadata": {
            "tags": []
          }
        },
        {
          "output_type": "stream",
          "text": [
            "\u001b[1mDataset imdb_reviews downloaded and prepared to /root/tensorflow_datasets/imdb_reviews/plain_text/1.0.0. Subsequent calls will reuse this data.\u001b[0m\n",
            "\r"
          ],
          "name": "stdout"
        }
      ]
    },
    {
      "cell_type": "code",
      "metadata": {
        "colab_type": "code",
        "id": "wHQ2Ko0zl7M4",
        "colab": {}
      },
      "source": [
        "import numpy as np\n",
        "\n",
        "train_data, test_data = imdb['train'], imdb['test']\n",
        "\n",
        "training_sentences = []\n",
        "training_labels = []\n",
        "\n",
        "testing_sentences = []\n",
        "testing_labels = []\n",
        "\n",
        "# str(s.tonumpy()) is needed in Python3 instead of just s.numpy()\n",
        "for s,l in train_data:\n",
        "  training_sentences.append(str(s.numpy()))\n",
        "  training_labels.append(l.numpy())\n",
        "  \n",
        "for s,l in test_data:\n",
        "  testing_sentences.append(str(s.numpy()))\n",
        "  testing_labels.append(l.numpy())\n",
        "  \n",
        "training_labels_final = np.array(training_labels)\n",
        "testing_labels_final = np.array(testing_labels)\n"
      ],
      "execution_count": 0,
      "outputs": []
    },
    {
      "cell_type": "code",
      "metadata": {
        "id": "NIDoU1dXmpwy",
        "colab_type": "code",
        "colab": {
          "base_uri": "https://localhost:8080/",
          "height": 51
        },
        "outputId": "9251df7e-d47a-4eda-9044-c05af35a8c4c"
      },
      "source": [
        "print(len(training_sentences))\n",
        "print(len(testing_sentences))"
      ],
      "execution_count": 18,
      "outputs": [
        {
          "output_type": "stream",
          "text": [
            "25000\n",
            "25000\n"
          ],
          "name": "stdout"
        }
      ]
    },
    {
      "cell_type": "code",
      "metadata": {
        "colab_type": "code",
        "id": "7n15yyMdmoH1",
        "colab": {}
      },
      "source": [
        "vocab_size = 10000\n",
        "embedding_dim = 16\n",
        "max_length = 120\n",
        "trunc_type='post'\n",
        "oov_tok = \"<OOV>\"\n",
        "\n",
        "\n",
        "from tensorflow.keras.preprocessing.text import Tokenizer\n",
        "from tensorflow.keras.preprocessing.sequence import pad_sequences\n",
        "\n",
        "tokenizer = Tokenizer(num_words = vocab_size, oov_token=oov_tok)\n",
        "tokenizer.fit_on_texts(training_sentences)\n",
        "word_index = tokenizer.word_index\n",
        "sequences = tokenizer.texts_to_sequences(training_sentences)\n",
        "padded = pad_sequences(sequences,maxlen=max_length, truncating=trunc_type)\n",
        "\n",
        "testing_sequences = tokenizer.texts_to_sequences(testing_sentences)\n",
        "testing_padded = pad_sequences(testing_sequences,maxlen=max_length)\n"
      ],
      "execution_count": 0,
      "outputs": []
    },
    {
      "cell_type": "code",
      "metadata": {
        "colab_type": "code",
        "id": "9axf0uIXVMhO",
        "colab": {
          "base_uri": "https://localhost:8080/",
          "height": 71
        },
        "outputId": "92fa8a45-0079-4a3a-a2c4-3b348a3d8263"
      },
      "source": [
        "reverse_word_index = dict([(value, key) for (key, value) in word_index.items()])\n",
        "\n",
        "def decode_review(text):\n",
        "    return ' '.join([reverse_word_index.get(i, '?') for i in text])\n",
        "\n",
        "print(decode_review(padded[1]))\n",
        "print(training_sentences[1])"
      ],
      "execution_count": 5,
      "outputs": [
        {
          "output_type": "stream",
          "text": [
            "? ? ? ? ? ? ? b'i have been known to fall asleep during films but this is usually due to a combination of things including really tired being warm and comfortable on the <OOV> and having just eaten a lot however on this occasion i fell asleep because the film was rubbish the plot development was constant constantly slow and boring things seemed to happen but with no explanation of what was causing them or why i admit i may have missed part of the film but i watched the majority of it and everything just seemed to happen of its own <OOV> without any real concern for anything else i cant recommend this film at all '\n",
            "b'I have been known to fall asleep during films, but this is usually due to a combination of things including, really tired, being warm and comfortable on the sette and having just eaten a lot. However on this occasion I fell asleep because the film was rubbish. The plot development was constant. Constantly slow and boring. Things seemed to happen, but with no explanation of what was causing them or why. I admit, I may have missed part of the film, but i watched the majority of it and everything just seemed to happen of its own accord without any real concern for anything else. I cant recommend this film at all.'\n"
          ],
          "name": "stdout"
        }
      ]
    },
    {
      "cell_type": "code",
      "metadata": {
        "colab_type": "code",
        "id": "5NEpdhb8AxID",
        "colab": {
          "base_uri": "https://localhost:8080/",
          "height": 289
        },
        "outputId": "95821fe1-c351-4cdb-c900-092eb88799e6"
      },
      "source": [
        "model = tf.keras.Sequential([\n",
        "    tf.keras.layers.Embedding(vocab_size, embedding_dim, input_length=max_length),\n",
        "    tf.keras.layers.Bidirectional(tf.keras.layers.GRU(32)),\n",
        "    tf.keras.layers.Dense(6, activation='relu'),\n",
        "    tf.keras.layers.Dense(1, activation='sigmoid')\n",
        "])\n",
        "model.compile(loss='binary_crossentropy',optimizer='adam',metrics=['accuracy'])\n",
        "model.summary()\n"
      ],
      "execution_count": 6,
      "outputs": [
        {
          "output_type": "stream",
          "text": [
            "Model: \"sequential\"\n",
            "_________________________________________________________________\n",
            "Layer (type)                 Output Shape              Param #   \n",
            "=================================================================\n",
            "embedding (Embedding)        (None, 120, 16)           160000    \n",
            "_________________________________________________________________\n",
            "bidirectional (Bidirectional (None, 64)                9600      \n",
            "_________________________________________________________________\n",
            "dense (Dense)                (None, 6)                 390       \n",
            "_________________________________________________________________\n",
            "dense_1 (Dense)              (None, 1)                 7         \n",
            "=================================================================\n",
            "Total params: 169,997\n",
            "Trainable params: 169,997\n",
            "Non-trainable params: 0\n",
            "_________________________________________________________________\n"
          ],
          "name": "stdout"
        }
      ]
    },
    {
      "cell_type": "code",
      "metadata": {
        "colab_type": "code",
        "id": "V5LLrXC-uNX6",
        "colab": {
          "base_uri": "https://localhost:8080/",
          "height": 1000
        },
        "outputId": "c52e0360-4c67-43a8-fa6c-6b6549b541bd"
      },
      "source": [
        "num_epochs = 50\n",
        "history = model.fit(padded, training_labels_final, epochs=num_epochs, validation_data=(testing_padded, testing_labels_final))"
      ],
      "execution_count": 7,
      "outputs": [
        {
          "output_type": "stream",
          "text": [
            "Epoch 1/50\n",
            "782/782 [==============================] - 15s 19ms/step - loss: 0.5735 - accuracy: 0.6664 - val_loss: 0.3943 - val_accuracy: 0.8274\n",
            "Epoch 2/50\n",
            "782/782 [==============================] - 14s 18ms/step - loss: 0.3217 - accuracy: 0.8649 - val_loss: 0.3849 - val_accuracy: 0.8430\n",
            "Epoch 3/50\n",
            "782/782 [==============================] - 14s 18ms/step - loss: 0.2454 - accuracy: 0.9048 - val_loss: 0.3858 - val_accuracy: 0.8324\n",
            "Epoch 4/50\n",
            "782/782 [==============================] - 14s 18ms/step - loss: 0.1922 - accuracy: 0.9287 - val_loss: 0.4422 - val_accuracy: 0.8348\n",
            "Epoch 5/50\n",
            "782/782 [==============================] - 14s 18ms/step - loss: 0.1405 - accuracy: 0.9515 - val_loss: 0.4964 - val_accuracy: 0.8284\n",
            "Epoch 6/50\n",
            "782/782 [==============================] - 14s 18ms/step - loss: 0.1003 - accuracy: 0.9663 - val_loss: 0.5572 - val_accuracy: 0.8158\n",
            "Epoch 7/50\n",
            "782/782 [==============================] - 14s 18ms/step - loss: 0.0713 - accuracy: 0.9764 - val_loss: 0.6867 - val_accuracy: 0.8115\n",
            "Epoch 8/50\n",
            "782/782 [==============================] - 14s 18ms/step - loss: 0.0515 - accuracy: 0.9828 - val_loss: 0.7807 - val_accuracy: 0.8146\n",
            "Epoch 9/50\n",
            "782/782 [==============================] - 14s 18ms/step - loss: 0.0406 - accuracy: 0.9857 - val_loss: 0.7879 - val_accuracy: 0.8092\n",
            "Epoch 10/50\n",
            "782/782 [==============================] - 14s 18ms/step - loss: 0.0268 - accuracy: 0.9912 - val_loss: 0.9493 - val_accuracy: 0.7988\n",
            "Epoch 11/50\n",
            "782/782 [==============================] - 14s 18ms/step - loss: 0.0273 - accuracy: 0.9906 - val_loss: 0.9967 - val_accuracy: 0.8115\n",
            "Epoch 12/50\n",
            "782/782 [==============================] - 14s 18ms/step - loss: 0.0203 - accuracy: 0.9934 - val_loss: 0.9756 - val_accuracy: 0.8021\n",
            "Epoch 13/50\n",
            "782/782 [==============================] - 14s 18ms/step - loss: 0.0184 - accuracy: 0.9934 - val_loss: 1.0342 - val_accuracy: 0.8025\n",
            "Epoch 14/50\n",
            "782/782 [==============================] - 14s 18ms/step - loss: 0.0117 - accuracy: 0.9962 - val_loss: 1.2108 - val_accuracy: 0.8015\n",
            "Epoch 15/50\n",
            "782/782 [==============================] - 14s 18ms/step - loss: 0.0166 - accuracy: 0.9944 - val_loss: 1.2299 - val_accuracy: 0.8010\n",
            "Epoch 16/50\n",
            "782/782 [==============================] - 14s 18ms/step - loss: 0.0099 - accuracy: 0.9971 - val_loss: 1.3373 - val_accuracy: 0.8029\n",
            "Epoch 17/50\n",
            "782/782 [==============================] - 14s 18ms/step - loss: 0.0082 - accuracy: 0.9971 - val_loss: 1.3218 - val_accuracy: 0.7971\n",
            "Epoch 18/50\n",
            "782/782 [==============================] - 14s 18ms/step - loss: 0.0120 - accuracy: 0.9960 - val_loss: 1.2623 - val_accuracy: 0.7913\n",
            "Epoch 19/50\n",
            "782/782 [==============================] - 14s 18ms/step - loss: 0.0089 - accuracy: 0.9969 - val_loss: 1.3212 - val_accuracy: 0.8021\n",
            "Epoch 20/50\n",
            "782/782 [==============================] - 14s 18ms/step - loss: 0.0084 - accuracy: 0.9970 - val_loss: 1.3320 - val_accuracy: 0.8003\n",
            "Epoch 21/50\n",
            "782/782 [==============================] - 14s 18ms/step - loss: 0.0062 - accuracy: 0.9979 - val_loss: 1.3696 - val_accuracy: 0.8035\n",
            "Epoch 22/50\n",
            "782/782 [==============================] - 14s 18ms/step - loss: 0.0047 - accuracy: 0.9986 - val_loss: 1.4690 - val_accuracy: 0.8031\n",
            "Epoch 23/50\n",
            "782/782 [==============================] - 14s 18ms/step - loss: 0.0050 - accuracy: 0.9980 - val_loss: 1.5542 - val_accuracy: 0.7912\n",
            "Epoch 24/50\n",
            "782/782 [==============================] - 14s 18ms/step - loss: 0.0079 - accuracy: 0.9970 - val_loss: 1.4172 - val_accuracy: 0.7924\n",
            "Epoch 25/50\n",
            "782/782 [==============================] - 14s 18ms/step - loss: 0.0078 - accuracy: 0.9973 - val_loss: 1.4908 - val_accuracy: 0.8006\n",
            "Epoch 26/50\n",
            "782/782 [==============================] - 14s 18ms/step - loss: 0.0036 - accuracy: 0.9988 - val_loss: 1.5499 - val_accuracy: 0.8047\n",
            "Epoch 27/50\n",
            "782/782 [==============================] - 15s 19ms/step - loss: 0.0024 - accuracy: 0.9994 - val_loss: 1.6585 - val_accuracy: 0.8051\n",
            "Epoch 28/50\n",
            "782/782 [==============================] - 14s 18ms/step - loss: 0.0026 - accuracy: 0.9992 - val_loss: 1.6103 - val_accuracy: 0.7970\n",
            "Epoch 29/50\n",
            "782/782 [==============================] - 14s 18ms/step - loss: 0.0043 - accuracy: 0.9984 - val_loss: 1.5168 - val_accuracy: 0.8012\n",
            "Epoch 30/50\n",
            "782/782 [==============================] - 14s 18ms/step - loss: 0.0088 - accuracy: 0.9967 - val_loss: 1.5169 - val_accuracy: 0.7924\n",
            "Epoch 31/50\n",
            "782/782 [==============================] - 14s 18ms/step - loss: 0.0049 - accuracy: 0.9985 - val_loss: 1.5473 - val_accuracy: 0.8025\n",
            "Epoch 32/50\n",
            "782/782 [==============================] - 14s 18ms/step - loss: 0.0018 - accuracy: 0.9995 - val_loss: 1.6089 - val_accuracy: 0.7960\n",
            "Epoch 33/50\n",
            "782/782 [==============================] - 14s 18ms/step - loss: 1.7478e-04 - accuracy: 1.0000 - val_loss: 1.7433 - val_accuracy: 0.8012\n",
            "Epoch 34/50\n",
            "782/782 [==============================] - 14s 18ms/step - loss: 3.3564e-05 - accuracy: 1.0000 - val_loss: 1.7943 - val_accuracy: 0.8022\n",
            "Epoch 35/50\n",
            "782/782 [==============================] - 14s 18ms/step - loss: 2.1811e-05 - accuracy: 1.0000 - val_loss: 1.8447 - val_accuracy: 0.8025\n",
            "Epoch 36/50\n",
            "782/782 [==============================] - 14s 18ms/step - loss: 1.5044e-05 - accuracy: 1.0000 - val_loss: 1.8998 - val_accuracy: 0.8032\n",
            "Epoch 37/50\n",
            "782/782 [==============================] - 14s 18ms/step - loss: 1.0355e-05 - accuracy: 1.0000 - val_loss: 1.9554 - val_accuracy: 0.8031\n",
            "Epoch 38/50\n",
            "782/782 [==============================] - 14s 18ms/step - loss: 7.1542e-06 - accuracy: 1.0000 - val_loss: 2.0146 - val_accuracy: 0.8029\n",
            "Epoch 39/50\n",
            "782/782 [==============================] - 14s 18ms/step - loss: 4.7465e-06 - accuracy: 1.0000 - val_loss: 2.0783 - val_accuracy: 0.8031\n",
            "Epoch 40/50\n",
            "782/782 [==============================] - 14s 18ms/step - loss: 3.1822e-06 - accuracy: 1.0000 - val_loss: 2.1421 - val_accuracy: 0.8031\n",
            "Epoch 41/50\n",
            "782/782 [==============================] - 14s 18ms/step - loss: 2.1224e-06 - accuracy: 1.0000 - val_loss: 2.2077 - val_accuracy: 0.8034\n",
            "Epoch 42/50\n",
            "782/782 [==============================] - 14s 18ms/step - loss: 1.4101e-06 - accuracy: 1.0000 - val_loss: 2.2734 - val_accuracy: 0.8033\n",
            "Epoch 43/50\n",
            "782/782 [==============================] - 14s 18ms/step - loss: 9.3383e-07 - accuracy: 1.0000 - val_loss: 2.3416 - val_accuracy: 0.8031\n",
            "Epoch 44/50\n",
            "782/782 [==============================] - 14s 18ms/step - loss: 6.1504e-07 - accuracy: 1.0000 - val_loss: 2.4107 - val_accuracy: 0.8031\n",
            "Epoch 45/50\n",
            "782/782 [==============================] - 14s 18ms/step - loss: 4.0745e-07 - accuracy: 1.0000 - val_loss: 2.4810 - val_accuracy: 0.8030\n",
            "Epoch 46/50\n",
            "782/782 [==============================] - 14s 18ms/step - loss: 2.6974e-07 - accuracy: 1.0000 - val_loss: 2.5501 - val_accuracy: 0.8027\n",
            "Epoch 47/50\n",
            "782/782 [==============================] - 14s 18ms/step - loss: 1.7852e-07 - accuracy: 1.0000 - val_loss: 2.6204 - val_accuracy: 0.8027\n",
            "Epoch 48/50\n",
            "782/782 [==============================] - 14s 18ms/step - loss: 1.1866e-07 - accuracy: 1.0000 - val_loss: 2.6898 - val_accuracy: 0.8027\n",
            "Epoch 49/50\n",
            "782/782 [==============================] - 15s 19ms/step - loss: 7.9026e-08 - accuracy: 1.0000 - val_loss: 2.7608 - val_accuracy: 0.8028\n",
            "Epoch 50/50\n",
            "782/782 [==============================] - 14s 18ms/step - loss: 5.3059e-08 - accuracy: 1.0000 - val_loss: 2.8295 - val_accuracy: 0.8028\n"
          ],
          "name": "stdout"
        }
      ]
    },
    {
      "cell_type": "code",
      "metadata": {
        "colab_type": "code",
        "id": "nHGYuU4jPYaj",
        "colab": {
          "base_uri": "https://localhost:8080/",
          "height": 541
        },
        "outputId": "eee4ff4c-5fd3-492b-ec2a-0fc6b5dc7958"
      },
      "source": [
        "import matplotlib.pyplot as plt\n",
        "\n",
        "\n",
        "def plot_graphs(history, string):\n",
        "  plt.plot(history.history[string])\n",
        "  plt.plot(history.history['val_'+string])\n",
        "  plt.xlabel(\"Epochs\")\n",
        "  plt.ylabel(string)\n",
        "  plt.legend([string, 'val_'+string])\n",
        "  plt.show()\n",
        "\n",
        "plot_graphs(history, 'accuracy')\n",
        "plot_graphs(history, 'loss')"
      ],
      "execution_count": 8,
      "outputs": [
        {
          "output_type": "display_data",
          "data": {
            "image/png": "[encoded data removed]",
            "text/plain": [
              "<Figure size 432x288 with 1 Axes>"
            ]
          },
          "metadata": {
            "tags": []
          }
        },
        {
          "output_type": "display_data",
          "data": {
            "image/png": "[encoded data removed]",
            "text/plain": [
              "<Figure size 432x288 with 1 Axes>"
            ]
          },
          "metadata": {
            "tags": []
          }
        }
      ]
    },
    {
      "cell_type": "code",
      "metadata": {
        "colab_type": "code",
        "id": "wSualgGPPK0S",
        "colab": {
          "base_uri": "https://localhost:8080/",
          "height": 289
        },
        "outputId": "e4b9231a-d2d4-4527-8d4f-9b849e903075"
      },
      "source": [
        "# Model Definition with LSTM\n",
        "model2 = tf.keras.Sequential([\n",
        "    tf.keras.layers.Embedding(vocab_size, embedding_dim, input_length=max_length),\n",
        "    tf.keras.layers.Bidirectional(tf.keras.layers.LSTM(32)),\n",
        "    tf.keras.layers.Dense(6, activation='relu'),\n",
        "    tf.keras.layers.Dense(1, activation='sigmoid')\n",
        "])\n",
        "model2.compile(loss='binary_crossentropy',optimizer='adam',metrics=['accuracy'])\n",
        "model2.summary()\n"
      ],
      "execution_count": 9,
      "outputs": [
        {
          "output_type": "stream",
          "text": [
            "Model: \"sequential_1\"\n",
            "_________________________________________________________________\n",
            "Layer (type)                 Output Shape              Param #   \n",
            "=================================================================\n",
            "embedding_1 (Embedding)      (None, 120, 16)           160000    \n",
            "_________________________________________________________________\n",
            "bidirectional_1 (Bidirection (None, 64)                12544     \n",
            "_________________________________________________________________\n",
            "dense_2 (Dense)              (None, 6)                 390       \n",
            "_________________________________________________________________\n",
            "dense_3 (Dense)              (None, 1)                 7         \n",
            "=================================================================\n",
            "Total params: 172,941\n",
            "Trainable params: 172,941\n",
            "Non-trainable params: 0\n",
            "_________________________________________________________________\n"
          ],
          "name": "stdout"
        }
      ]
    },
    {
      "cell_type": "code",
      "metadata": {
        "id": "sP7DSFD0jTZC",
        "colab_type": "code",
        "colab": {
          "base_uri": "https://localhost:8080/",
          "height": 1000
        },
        "outputId": "29718f4e-f4d6-4bd5-881c-e19e188c2383"
      },
      "source": [
        "num_epochs = 50\n",
        "history = model2.fit(padded, training_labels_final, epochs=num_epochs, validation_data=(testing_padded, testing_labels_final))"
      ],
      "execution_count": 11,
      "outputs": [
        {
          "output_type": "stream",
          "text": [
            "Epoch 1/50\n",
            "782/782 [==============================] - 6s 7ms/step - loss: 0.4310 - accuracy: 0.7978 - val_loss: 0.3496 - val_accuracy: 0.8473\n",
            "Epoch 2/50\n",
            "782/782 [==============================] - 6s 7ms/step - loss: 0.2767 - accuracy: 0.8867 - val_loss: 0.3702 - val_accuracy: 0.8380\n",
            "Epoch 3/50\n",
            "782/782 [==============================] - 6s 7ms/step - loss: 0.2242 - accuracy: 0.9134 - val_loss: 0.3776 - val_accuracy: 0.8398\n",
            "Epoch 4/50\n",
            "782/782 [==============================] - 6s 7ms/step - loss: 0.1850 - accuracy: 0.9300 - val_loss: 0.4202 - val_accuracy: 0.8331\n",
            "Epoch 5/50\n",
            "782/782 [==============================] - 6s 7ms/step - loss: 0.1511 - accuracy: 0.9468 - val_loss: 0.4887 - val_accuracy: 0.8249\n",
            "Epoch 6/50\n",
            "782/782 [==============================] - 6s 7ms/step - loss: 0.1203 - accuracy: 0.9597 - val_loss: 0.5333 - val_accuracy: 0.8227\n",
            "Epoch 7/50\n",
            "782/782 [==============================] - 6s 7ms/step - loss: 0.0968 - accuracy: 0.9687 - val_loss: 0.6227 - val_accuracy: 0.8160\n",
            "Epoch 8/50\n",
            "782/782 [==============================] - 6s 7ms/step - loss: 0.0765 - accuracy: 0.9778 - val_loss: 0.7783 - val_accuracy: 0.8098\n",
            "Epoch 9/50\n",
            "782/782 [==============================] - 6s 7ms/step - loss: 0.0636 - accuracy: 0.9809 - val_loss: 0.7835 - val_accuracy: 0.8106\n",
            "Epoch 10/50\n",
            "782/782 [==============================] - 6s 7ms/step - loss: 0.0493 - accuracy: 0.9861 - val_loss: 0.8985 - val_accuracy: 0.8079\n",
            "Epoch 11/50\n",
            "782/782 [==============================] - 6s 7ms/step - loss: 0.0410 - accuracy: 0.9880 - val_loss: 0.9496 - val_accuracy: 0.8096\n",
            "Epoch 12/50\n",
            "782/782 [==============================] - 6s 7ms/step - loss: 0.0339 - accuracy: 0.9906 - val_loss: 1.1365 - val_accuracy: 0.8051\n",
            "Epoch 13/50\n",
            "782/782 [==============================] - 6s 7ms/step - loss: 0.0271 - accuracy: 0.9928 - val_loss: 1.1771 - val_accuracy: 0.8034\n",
            "Epoch 14/50\n",
            "782/782 [==============================] - 6s 7ms/step - loss: 0.0249 - accuracy: 0.9930 - val_loss: 1.2491 - val_accuracy: 0.8070\n",
            "Epoch 15/50\n",
            "782/782 [==============================] - 6s 8ms/step - loss: 0.0229 - accuracy: 0.9932 - val_loss: 1.3177 - val_accuracy: 0.8064\n",
            "Epoch 16/50\n",
            "782/782 [==============================] - 6s 7ms/step - loss: 0.0208 - accuracy: 0.9942 - val_loss: 1.4471 - val_accuracy: 0.8040\n",
            "Epoch 17/50\n",
            "782/782 [==============================] - 6s 7ms/step - loss: 0.0170 - accuracy: 0.9947 - val_loss: 1.5296 - val_accuracy: 0.8016\n",
            "Epoch 18/50\n",
            "782/782 [==============================] - 6s 7ms/step - loss: 0.0150 - accuracy: 0.9955 - val_loss: 1.6290 - val_accuracy: 0.7967\n",
            "Epoch 19/50\n",
            "782/782 [==============================] - 6s 7ms/step - loss: 0.0141 - accuracy: 0.9959 - val_loss: 1.7210 - val_accuracy: 0.8000\n",
            "Epoch 20/50\n",
            "782/782 [==============================] - 6s 7ms/step - loss: 0.0066 - accuracy: 0.9985 - val_loss: 1.6586 - val_accuracy: 0.8026\n",
            "Epoch 21/50\n",
            "782/782 [==============================] - 6s 7ms/step - loss: 0.0056 - accuracy: 0.9986 - val_loss: 1.9861 - val_accuracy: 0.7966\n",
            "Epoch 22/50\n",
            "782/782 [==============================] - 6s 7ms/step - loss: 0.0140 - accuracy: 0.9955 - val_loss: 1.6302 - val_accuracy: 0.7996\n",
            "Epoch 23/50\n",
            "782/782 [==============================] - 6s 7ms/step - loss: 0.0162 - accuracy: 0.9950 - val_loss: 1.9688 - val_accuracy: 0.7972\n",
            "Epoch 24/50\n",
            "782/782 [==============================] - 6s 7ms/step - loss: 0.0070 - accuracy: 0.9977 - val_loss: 1.8875 - val_accuracy: 0.8015\n",
            "Epoch 25/50\n",
            "782/782 [==============================] - 6s 7ms/step - loss: 0.0036 - accuracy: 0.9991 - val_loss: 1.8918 - val_accuracy: 0.8012\n",
            "Epoch 26/50\n",
            "782/782 [==============================] - 6s 7ms/step - loss: 0.0014 - accuracy: 0.9998 - val_loss: 1.9721 - val_accuracy: 0.8039\n",
            "Epoch 27/50\n",
            "782/782 [==============================] - 6s 7ms/step - loss: 2.3727e-04 - accuracy: 1.0000 - val_loss: 2.0602 - val_accuracy: 0.8034\n",
            "Epoch 28/50\n",
            "782/782 [==============================] - 6s 7ms/step - loss: 1.0970e-04 - accuracy: 1.0000 - val_loss: 2.1322 - val_accuracy: 0.8032\n",
            "Epoch 29/50\n",
            "782/782 [==============================] - 6s 7ms/step - loss: 7.0307e-05 - accuracy: 1.0000 - val_loss: 2.1844 - val_accuracy: 0.8037\n",
            "Epoch 30/50\n",
            "782/782 [==============================] - 6s 7ms/step - loss: 4.7275e-05 - accuracy: 1.0000 - val_loss: 2.2579 - val_accuracy: 0.8037\n",
            "Epoch 31/50\n",
            "782/782 [==============================] - 6s 7ms/step - loss: 3.2573e-05 - accuracy: 1.0000 - val_loss: 2.3192 - val_accuracy: 0.8046\n",
            "Epoch 32/50\n",
            "782/782 [==============================] - 6s 7ms/step - loss: 2.3004e-05 - accuracy: 1.0000 - val_loss: 2.4040 - val_accuracy: 0.8047\n",
            "Epoch 33/50\n",
            "782/782 [==============================] - 6s 8ms/step - loss: 1.5294e-05 - accuracy: 1.0000 - val_loss: 2.4867 - val_accuracy: 0.8047\n",
            "Epoch 34/50\n",
            "782/782 [==============================] - 6s 7ms/step - loss: 1.0288e-05 - accuracy: 1.0000 - val_loss: 2.5327 - val_accuracy: 0.8048\n",
            "Epoch 35/50\n",
            "782/782 [==============================] - 6s 8ms/step - loss: 6.9863e-06 - accuracy: 1.0000 - val_loss: 2.6451 - val_accuracy: 0.8047\n",
            "Epoch 36/50\n",
            "782/782 [==============================] - 6s 8ms/step - loss: 4.5507e-06 - accuracy: 1.0000 - val_loss: 2.7210 - val_accuracy: 0.8049\n",
            "Epoch 37/50\n",
            "782/782 [==============================] - 6s 7ms/step - loss: 3.0871e-06 - accuracy: 1.0000 - val_loss: 2.8100 - val_accuracy: 0.8050\n",
            "Epoch 38/50\n",
            "782/782 [==============================] - 6s 7ms/step - loss: 2.0055e-06 - accuracy: 1.0000 - val_loss: 2.9117 - val_accuracy: 0.8048\n",
            "Epoch 39/50\n",
            "782/782 [==============================] - 6s 7ms/step - loss: 1.3677e-06 - accuracy: 1.0000 - val_loss: 2.9847 - val_accuracy: 0.8046\n",
            "Epoch 40/50\n",
            "782/782 [==============================] - 6s 7ms/step - loss: 8.8678e-07 - accuracy: 1.0000 - val_loss: 3.0807 - val_accuracy: 0.8045\n",
            "Epoch 41/50\n",
            "782/782 [==============================] - 6s 7ms/step - loss: 5.8276e-07 - accuracy: 1.0000 - val_loss: 3.1716 - val_accuracy: 0.8048\n",
            "Epoch 42/50\n",
            "782/782 [==============================] - 6s 7ms/step - loss: 4.1567e-07 - accuracy: 1.0000 - val_loss: 3.2582 - val_accuracy: 0.8047\n",
            "Epoch 43/50\n",
            "782/782 [==============================] - 6s 7ms/step - loss: 2.5640e-07 - accuracy: 1.0000 - val_loss: 3.3523 - val_accuracy: 0.8045\n",
            "Epoch 44/50\n",
            "782/782 [==============================] - 6s 7ms/step - loss: 1.7354e-07 - accuracy: 1.0000 - val_loss: 3.4159 - val_accuracy: 0.8047\n",
            "Epoch 45/50\n",
            "782/782 [==============================] - 6s 7ms/step - loss: 1.1844e-07 - accuracy: 1.0000 - val_loss: 3.5143 - val_accuracy: 0.8046\n",
            "Epoch 46/50\n",
            "782/782 [==============================] - 6s 8ms/step - loss: 8.1659e-08 - accuracy: 1.0000 - val_loss: 3.5985 - val_accuracy: 0.8048\n",
            "Epoch 47/50\n",
            "782/782 [==============================] - 6s 7ms/step - loss: 5.5374e-08 - accuracy: 1.0000 - val_loss: 3.6593 - val_accuracy: 0.8046\n",
            "Epoch 48/50\n",
            "782/782 [==============================] - 6s 7ms/step - loss: 3.9230e-08 - accuracy: 1.0000 - val_loss: 3.7546 - val_accuracy: 0.8047\n",
            "Epoch 49/50\n",
            "782/782 [==============================] - 6s 8ms/step - loss: 2.7142e-08 - accuracy: 1.0000 - val_loss: 3.8393 - val_accuracy: 0.8048\n",
            "Epoch 50/50\n",
            "782/782 [==============================] - 6s 8ms/step - loss: 1.8927e-08 - accuracy: 1.0000 - val_loss: 3.9228 - val_accuracy: 0.8046\n"
          ],
          "name": "stdout"
        }
      ]
    },
    {
      "cell_type": "code",
      "metadata": {
        "id": "kaytvK2nkmIp",
        "colab_type": "code",
        "colab": {
          "base_uri": "https://localhost:8080/",
          "height": 541
        },
        "outputId": "6e4b66b9-781e-49f0-d47b-47fc27bdf640"
      },
      "source": [
        "plot_graphs(history, 'accuracy')\n",
        "plot_graphs(history, 'loss')"
      ],
      "execution_count": 12,
      "outputs": [
        {
          "output_type": "display_data",
          "data": {
            "image/png": "[encoded data removed]",
            "text/plain": [
              "<Figure size 432x288 with 1 Axes>"
            ]
          },
          "metadata": {
            "tags": []
          }
        },
        {
          "output_type": "display_data",
          "data": {
            "image/png": "[encoded data removed]",
            "text/plain": [
              "<Figure size 432x288 with 1 Axes>"
            ]
          },
          "metadata": {
            "tags": []
          }
        }
      ]
    },
    {
      "cell_type": "code",
      "metadata": {
        "colab_type": "code",
        "id": "K_Jc7cY3Qxke",
        "colab": {
          "base_uri": "https://localhost:8080/",
          "height": 323
        },
        "outputId": "194b51db-9d64-4720-c8e1-4e4d140ee578"
      },
      "source": [
        "# Model Definition with Conv1D\n",
        "model3 = tf.keras.Sequential([\n",
        "    tf.keras.layers.Embedding(vocab_size, embedding_dim, input_length=max_length),\n",
        "    tf.keras.layers.Conv1D(128, 5, activation='relu'),\n",
        "    tf.keras.layers.GlobalAveragePooling1D(),\n",
        "    tf.keras.layers.Dense(6, activation='relu'),\n",
        "    tf.keras.layers.Dense(1, activation='sigmoid')\n",
        "])\n",
        "model3.compile(loss='binary_crossentropy',optimizer='adam',metrics=['accuracy'])\n",
        "model3.summary()\n"
      ],
      "execution_count": 14,
      "outputs": [
        {
          "output_type": "stream",
          "text": [
            "Model: \"sequential_4\"\n",
            "_________________________________________________________________\n",
            "Layer (type)                 Output Shape              Param #   \n",
            "=================================================================\n",
            "embedding_4 (Embedding)      (None, 120, 16)           160000    \n",
            "_________________________________________________________________\n",
            "conv1d_2 (Conv1D)            (None, 116, 128)          10368     \n",
            "_________________________________________________________________\n",
            "global_average_pooling1d_2 ( (None, 128)               0         \n",
            "_________________________________________________________________\n",
            "dense_8 (Dense)              (None, 6)                 774       \n",
            "_________________________________________________________________\n",
            "dense_9 (Dense)              (None, 1)                 7         \n",
            "=================================================================\n",
            "Total params: 171,149\n",
            "Trainable params: 171,149\n",
            "Non-trainable params: 0\n",
            "_________________________________________________________________\n"
          ],
          "name": "stdout"
        }
      ]
    },
    {
      "cell_type": "code",
      "metadata": {
        "id": "-GkWX4wEj9yT",
        "colab_type": "code",
        "colab": {
          "base_uri": "https://localhost:8080/",
          "height": 1000
        },
        "outputId": "b5db8b56-f93f-4729-baf7-96f267403639"
      },
      "source": [
        "num_epochs = 50\n",
        "history = model3.fit(padded, training_labels_final, epochs=num_epochs, validation_data=(testing_padded, testing_labels_final))"
      ],
      "execution_count": 15,
      "outputs": [
        {
          "output_type": "stream",
          "text": [
            "Epoch 1/50\n",
            "782/782 [==============================] - 6s 8ms/step - loss: 0.5347 - accuracy: 0.7715 - val_loss: 0.4425 - val_accuracy: 0.8420\n",
            "Epoch 2/50\n",
            "782/782 [==============================] - 6s 8ms/step - loss: 0.3660 - accuracy: 0.8788 - val_loss: 0.4132 - val_accuracy: 0.8412\n",
            "Epoch 3/50\n",
            "782/782 [==============================] - 6s 7ms/step - loss: 0.2841 - accuracy: 0.9066 - val_loss: 0.4357 - val_accuracy: 0.8369\n",
            "Epoch 4/50\n",
            "782/782 [==============================] - 6s 7ms/step - loss: 0.2305 - accuracy: 0.9272 - val_loss: 0.4459 - val_accuracy: 0.8322\n",
            "Epoch 5/50\n",
            "782/782 [==============================] - 6s 7ms/step - loss: 0.1912 - accuracy: 0.9426 - val_loss: 0.4873 - val_accuracy: 0.8258\n",
            "Epoch 6/50\n",
            "782/782 [==============================] - 6s 7ms/step - loss: 0.1614 - accuracy: 0.9532 - val_loss: 0.5591 - val_accuracy: 0.8243\n",
            "Epoch 7/50\n",
            "782/782 [==============================] - 6s 7ms/step - loss: 0.1425 - accuracy: 0.9598 - val_loss: 0.5961 - val_accuracy: 0.8097\n",
            "Epoch 8/50\n",
            "782/782 [==============================] - 6s 7ms/step - loss: 0.1270 - accuracy: 0.9662 - val_loss: 0.7139 - val_accuracy: 0.8206\n",
            "Epoch 9/50\n",
            "782/782 [==============================] - 6s 7ms/step - loss: 0.1176 - accuracy: 0.9691 - val_loss: 0.8381 - val_accuracy: 0.8198\n",
            "Epoch 10/50\n",
            "782/782 [==============================] - 6s 7ms/step - loss: 0.1135 - accuracy: 0.9702 - val_loss: 0.8819 - val_accuracy: 0.8175\n",
            "Epoch 11/50\n",
            "782/782 [==============================] - 6s 7ms/step - loss: 0.1098 - accuracy: 0.9711 - val_loss: 0.9433 - val_accuracy: 0.8162\n",
            "Epoch 12/50\n",
            "782/782 [==============================] - 6s 8ms/step - loss: 0.1062 - accuracy: 0.9731 - val_loss: 1.1255 - val_accuracy: 0.8179\n",
            "Epoch 13/50\n",
            "782/782 [==============================] - 6s 7ms/step - loss: 0.1100 - accuracy: 0.9705 - val_loss: 0.9338 - val_accuracy: 0.8080\n",
            "Epoch 14/50\n",
            "782/782 [==============================] - 6s 7ms/step - loss: 0.1067 - accuracy: 0.9723 - val_loss: 0.9598 - val_accuracy: 0.8071\n",
            "Epoch 15/50\n",
            "782/782 [==============================] - 6s 7ms/step - loss: 0.1049 - accuracy: 0.9726 - val_loss: 1.0374 - val_accuracy: 0.8137\n",
            "Epoch 16/50\n",
            "782/782 [==============================] - 6s 8ms/step - loss: 0.1020 - accuracy: 0.9737 - val_loss: 1.0488 - val_accuracy: 0.8136\n",
            "Epoch 17/50\n",
            "782/782 [==============================] - 6s 8ms/step - loss: 0.1000 - accuracy: 0.9746 - val_loss: 1.1047 - val_accuracy: 0.8143\n",
            "Epoch 18/50\n",
            "782/782 [==============================] - 6s 7ms/step - loss: 0.0993 - accuracy: 0.9752 - val_loss: 1.0930 - val_accuracy: 0.8094\n",
            "Epoch 19/50\n",
            "782/782 [==============================] - 6s 7ms/step - loss: 0.1006 - accuracy: 0.9743 - val_loss: 1.0887 - val_accuracy: 0.8094\n",
            "Epoch 20/50\n",
            "782/782 [==============================] - 6s 7ms/step - loss: 0.0996 - accuracy: 0.9749 - val_loss: 1.1775 - val_accuracy: 0.8093\n",
            "Epoch 21/50\n",
            "782/782 [==============================] - 6s 7ms/step - loss: 0.1009 - accuracy: 0.9741 - val_loss: 1.3672 - val_accuracy: 0.8132\n",
            "Epoch 22/50\n",
            "782/782 [==============================] - 6s 7ms/step - loss: 0.0998 - accuracy: 0.9747 - val_loss: 1.1832 - val_accuracy: 0.8102\n",
            "Epoch 23/50\n",
            "782/782 [==============================] - 6s 7ms/step - loss: 0.0980 - accuracy: 0.9750 - val_loss: 1.3353 - val_accuracy: 0.8154\n",
            "Epoch 24/50\n",
            "782/782 [==============================] - 6s 8ms/step - loss: 0.0948 - accuracy: 0.9766 - val_loss: 1.2387 - val_accuracy: 0.8129\n",
            "Epoch 25/50\n",
            "782/782 [==============================] - 6s 7ms/step - loss: 0.0937 - accuracy: 0.9773 - val_loss: 1.2389 - val_accuracy: 0.8100\n",
            "Epoch 26/50\n",
            "782/782 [==============================] - 6s 7ms/step - loss: 0.0944 - accuracy: 0.9768 - val_loss: 1.2329 - val_accuracy: 0.8084\n",
            "Epoch 27/50\n",
            "782/782 [==============================] - 6s 7ms/step - loss: 0.0994 - accuracy: 0.9751 - val_loss: 1.2323 - val_accuracy: 0.8092\n",
            "Epoch 28/50\n",
            "782/782 [==============================] - 6s 7ms/step - loss: 0.0977 - accuracy: 0.9754 - val_loss: 1.2678 - val_accuracy: 0.8084\n",
            "Epoch 29/50\n",
            "782/782 [==============================] - 6s 7ms/step - loss: 0.0947 - accuracy: 0.9766 - val_loss: 1.2568 - val_accuracy: 0.8072\n",
            "Epoch 30/50\n",
            "782/782 [==============================] - 6s 8ms/step - loss: 0.0942 - accuracy: 0.9766 - val_loss: 1.2198 - val_accuracy: 0.8068\n",
            "Epoch 31/50\n",
            "782/782 [==============================] - 6s 8ms/step - loss: 0.0953 - accuracy: 0.9766 - val_loss: 1.4570 - val_accuracy: 0.8136\n",
            "Epoch 32/50\n",
            "782/782 [==============================] - 6s 7ms/step - loss: 0.0967 - accuracy: 0.9757 - val_loss: 1.2516 - val_accuracy: 0.8114\n",
            "Epoch 33/50\n",
            "782/782 [==============================] - 6s 7ms/step - loss: 0.0929 - accuracy: 0.9772 - val_loss: 1.2005 - val_accuracy: 0.8047\n",
            "Epoch 34/50\n",
            "782/782 [==============================] - 6s 8ms/step - loss: 0.0923 - accuracy: 0.9773 - val_loss: 1.3189 - val_accuracy: 0.8084\n",
            "Epoch 35/50\n",
            "782/782 [==============================] - 6s 7ms/step - loss: 0.0910 - accuracy: 0.9779 - val_loss: 1.4621 - val_accuracy: 0.8102\n",
            "Epoch 36/50\n",
            "782/782 [==============================] - 6s 7ms/step - loss: 0.0932 - accuracy: 0.9770 - val_loss: 1.3546 - val_accuracy: 0.8083\n",
            "Epoch 37/50\n",
            "782/782 [==============================] - 6s 7ms/step - loss: 0.0946 - accuracy: 0.9765 - val_loss: 1.4667 - val_accuracy: 0.8129\n",
            "Epoch 38/50\n",
            "782/782 [==============================] - 6s 7ms/step - loss: 0.0916 - accuracy: 0.9778 - val_loss: 1.4191 - val_accuracy: 0.8128\n",
            "Epoch 39/50\n",
            "782/782 [==============================] - 6s 8ms/step - loss: 0.0913 - accuracy: 0.9777 - val_loss: 1.6090 - val_accuracy: 0.8134\n",
            "Epoch 40/50\n",
            "782/782 [==============================] - 6s 8ms/step - loss: 0.0917 - accuracy: 0.9776 - val_loss: 1.5680 - val_accuracy: 0.8134\n",
            "Epoch 41/50\n",
            "782/782 [==============================] - 6s 7ms/step - loss: 0.0940 - accuracy: 0.9766 - val_loss: 1.3144 - val_accuracy: 0.8015\n",
            "Epoch 42/50\n",
            "782/782 [==============================] - 6s 8ms/step - loss: 0.0924 - accuracy: 0.9773 - val_loss: 1.6162 - val_accuracy: 0.8115\n",
            "Epoch 43/50\n",
            "782/782 [==============================] - 6s 8ms/step - loss: 0.0908 - accuracy: 0.9778 - val_loss: 1.4537 - val_accuracy: 0.8113\n",
            "Epoch 44/50\n",
            "782/782 [==============================] - 6s 7ms/step - loss: 0.0904 - accuracy: 0.9782 - val_loss: 1.3450 - val_accuracy: 0.8055\n",
            "Epoch 45/50\n",
            "782/782 [==============================] - 6s 8ms/step - loss: 0.0925 - accuracy: 0.9771 - val_loss: 1.4907 - val_accuracy: 0.8103\n",
            "Epoch 46/50\n",
            "782/782 [==============================] - 6s 7ms/step - loss: 0.0918 - accuracy: 0.9776 - val_loss: 1.4074 - val_accuracy: 0.8092\n",
            "Epoch 47/50\n",
            "782/782 [==============================] - 6s 8ms/step - loss: 0.0918 - accuracy: 0.9777 - val_loss: 1.5764 - val_accuracy: 0.8112\n",
            "Epoch 48/50\n",
            "782/782 [==============================] - 6s 7ms/step - loss: 0.0921 - accuracy: 0.9774 - val_loss: 1.4226 - val_accuracy: 0.8080\n",
            "Epoch 49/50\n",
            "782/782 [==============================] - 6s 7ms/step - loss: 0.0911 - accuracy: 0.9776 - val_loss: 1.6031 - val_accuracy: 0.8127\n",
            "Epoch 50/50\n",
            "782/782 [==============================] - 6s 8ms/step - loss: 0.0905 - accuracy: 0.9782 - val_loss: 1.4295 - val_accuracy: 0.8086\n"
          ],
          "name": "stdout"
        }
      ]
    },
    {
      "cell_type": "code",
      "metadata": {
        "id": "e5ilTnoqktjC",
        "colab_type": "code",
        "colab": {
          "base_uri": "https://localhost:8080/",
          "height": 541
        },
        "outputId": "c99296fc-6295-4359-acc4-413afc464cc0"
      },
      "source": [
        "plot_graphs(history, 'accuracy')\n",
        "plot_graphs(history, 'loss')"
      ],
      "execution_count": 16,
      "outputs": [
        {
          "output_type": "display_data",
          "data": {
            "image/png": "[encoded data removed]",
            "text/plain": [
              "<Figure size 432x288 with 1 Axes>"
            ]
          },
          "metadata": {
            "tags": []
          }
        },
        {
          "output_type": "display_data",
          "data": {
            "image/png": "[encoded data removed]",
            "text/plain": [
              "<Figure size 432x288 with 1 Axes>"
            ]
          },
          "metadata": {
            "tags": []
          }
        }
      ]
    },
    {
      "cell_type": "code",
      "metadata": {
        "id": "Gz_YgcNtnAuw",
        "colab_type": "code",
        "colab": {}
      },
      "source": [
        "# Model Definition with Conv1D\n",
        "model4 = tf.keras.Sequential([\n",
        "    tf.keras.layers.Embedding(vocab_size, embedding_dim, input_length=max_length),\n",
        "    tf.keras.layers.Conv1D(128, 5, activation='relu'),\n",
        "    tf.keras.layers.GlobalAveragePooling1D(),\n",
        "    tf.keras.layers.Dense(6, activation='relu'),\n",
        "    tf.keras.layers.Dense(1, activation='sigmoid')\n",
        "])\n",
        "model3.compile(loss='binary_crossentropy',optimizer='adam',metrics=['accuracy'])\n",
        "model3.summary()"
      ],
      "execution_count": 0,
      "outputs": []
    }
  ]
}